{
 "cells": [
  {
   "cell_type": "code",
   "execution_count": null,
   "metadata": {},
   "outputs": [],
   "source": []
  },
  {
   "cell_type": "markdown",
   "metadata": {},
   "source": [
    "## Imports"
   ]
  },
  {
   "cell_type": "code",
   "execution_count": 1,
   "metadata": {},
   "outputs": [
    {
     "name": "stderr",
     "output_type": "stream",
     "text": [
      "2024-01-28 15:28:21.281364: I tensorflow/tsl/cuda/cudart_stub.cc:28] Could not find cuda drivers on your machine, GPU will not be used.\n",
      "2024-01-28 15:28:21.611754: I tensorflow/tsl/cuda/cudart_stub.cc:28] Could not find cuda drivers on your machine, GPU will not be used.\n",
      "2024-01-28 15:28:21.615835: I tensorflow/core/platform/cpu_feature_guard.cc:182] This TensorFlow binary is optimized to use available CPU instructions in performance-critical operations.\n",
      "To enable the following instructions: AVX2 FMA, in other operations, rebuild TensorFlow with the appropriate compiler flags.\n",
      "2024-01-28 15:28:23.349458: W tensorflow/compiler/tf2tensorrt/utils/py_utils.cc:38] TF-TRT Warning: Could not find TensorRT\n"
     ]
    }
   ],
   "source": [
    "import pickle\n",
    "import statistics\n",
    "import pandas as pd\n",
    "import seaborn as sns\n",
    "from termcolor import colored\n",
    "import matplotlib.pyplot as plt\n",
    "import numpy as np\n",
    "from src import models\n",
    "from sklearn.preprocessing import OneHotEncoder\n",
    "from sklearn import metrics\n",
    "from sklearn import model_selection\n",
    "import keras_tuner\n",
    "import keras\n",
    "\n",
    "from scipy.stats import mannwhitneyu\n",
    "from scipy.stats import shapiro\n",
    "import scipy.stats as stats\n",
    "\n"
   ]
  },
  {
   "cell_type": "code",
   "execution_count": 2,
   "metadata": {},
   "outputs": [
    {
     "name": "stdout",
     "output_type": "stream",
     "text": [
      "Defaulting to user installation because normal site-packages is not writeable\n",
      "Requirement already satisfied: termcolor in /home/oihugu/.local/lib/python3.8/site-packages (2.4.0)\n",
      "\n",
      "\u001b[1m[\u001b[0m\u001b[34;49mnotice\u001b[0m\u001b[1;39;49m]\u001b[0m\u001b[39;49m A new release of pip is available: \u001b[0m\u001b[31;49m23.3.1\u001b[0m\u001b[39;49m -> \u001b[0m\u001b[32;49m23.3.2\u001b[0m\n",
      "\u001b[1m[\u001b[0m\u001b[34;49mnotice\u001b[0m\u001b[1;39;49m]\u001b[0m\u001b[39;49m To update, run: \u001b[0m\u001b[32;49mpip install --upgrade pip\u001b[0m\n",
      "Note: you may need to restart the kernel to use updated packages.\n"
     ]
    }
   ],
   "source": [
    "%pip install termcolor"
   ]
  },
  {
   "cell_type": "markdown",
   "metadata": {},
   "source": [
    "## Loading the data"
   ]
  },
  {
   "cell_type": "code",
   "execution_count": 3,
   "metadata": {},
   "outputs": [
    {
     "data": {
      "text/html": [
       "<div>\n",
       "<style scoped>\n",
       "    .dataframe tbody tr th:only-of-type {\n",
       "        vertical-align: middle;\n",
       "    }\n",
       "\n",
       "    .dataframe tbody tr th {\n",
       "        vertical-align: top;\n",
       "    }\n",
       "\n",
       "    .dataframe thead th {\n",
       "        text-align: right;\n",
       "    }\n",
       "</style>\n",
       "<table border=\"1\" class=\"dataframe\">\n",
       "  <thead>\n",
       "    <tr style=\"text-align: right;\">\n",
       "      <th></th>\n",
       "      <th>c1</th>\n",
       "      <th>c2</th>\n",
       "      <th>c3</th>\n",
       "      <th>c4</th>\n",
       "      <th>c5</th>\n",
       "      <th>c6</th>\n",
       "      <th>variant</th>\n",
       "      <th>n1</th>\n",
       "      <th>n2</th>\n",
       "      <th>n3</th>\n",
       "      <th>...</th>\n",
       "      <th>n5</th>\n",
       "      <th>n6</th>\n",
       "      <th>n7</th>\n",
       "      <th>n8</th>\n",
       "      <th>n9</th>\n",
       "      <th>n10</th>\n",
       "      <th>n11</th>\n",
       "      <th>n12</th>\n",
       "      <th>n13</th>\n",
       "      <th>n14</th>\n",
       "    </tr>\n",
       "    <tr>\n",
       "      <th>id</th>\n",
       "      <th></th>\n",
       "      <th></th>\n",
       "      <th></th>\n",
       "      <th></th>\n",
       "      <th></th>\n",
       "      <th></th>\n",
       "      <th></th>\n",
       "      <th></th>\n",
       "      <th></th>\n",
       "      <th></th>\n",
       "      <th></th>\n",
       "      <th></th>\n",
       "      <th></th>\n",
       "      <th></th>\n",
       "      <th></th>\n",
       "      <th></th>\n",
       "      <th></th>\n",
       "      <th></th>\n",
       "      <th></th>\n",
       "      <th></th>\n",
       "      <th></th>\n",
       "    </tr>\n",
       "  </thead>\n",
       "  <tbody>\n",
       "    <tr>\n",
       "      <th>0</th>\n",
       "      <td>R0I</td>\n",
       "      <td>YW5kc</td>\n",
       "      <td>ZXM</td>\n",
       "      <td>NaN</td>\n",
       "      <td>True</td>\n",
       "      <td>LTA0OjAw</td>\n",
       "      <td>A</td>\n",
       "      <td>147.175163</td>\n",
       "      <td>508.833307</td>\n",
       "      <td>1.373772</td>\n",
       "      <td>...</td>\n",
       "      <td>198.480790</td>\n",
       "      <td>1.513241e+09</td>\n",
       "      <td>0.877958</td>\n",
       "      <td>563.317119</td>\n",
       "      <td>18.827356</td>\n",
       "      <td>0.111096</td>\n",
       "      <td>0.910215</td>\n",
       "      <td>0.270997</td>\n",
       "      <td>38.999087</td>\n",
       "      <td>0.073268</td>\n",
       "    </tr>\n",
       "    <tr>\n",
       "      <th>1</th>\n",
       "      <td>QVI</td>\n",
       "      <td>aW9z</td>\n",
       "      <td>cHQ</td>\n",
       "      <td>aHVhd</td>\n",
       "      <td>True</td>\n",
       "      <td>KzAzOjAw</td>\n",
       "      <td>B</td>\n",
       "      <td>288.359771</td>\n",
       "      <td>1028.901212</td>\n",
       "      <td>13.839420</td>\n",
       "      <td>...</td>\n",
       "      <td>384.252343</td>\n",
       "      <td>7.030908e+08</td>\n",
       "      <td>7.915538</td>\n",
       "      <td>1059.667759</td>\n",
       "      <td>NaN</td>\n",
       "      <td>0.360950</td>\n",
       "      <td>2.965243</td>\n",
       "      <td>0.349473</td>\n",
       "      <td>77.952363</td>\n",
       "      <td>0.185909</td>\n",
       "    </tr>\n",
       "    <tr>\n",
       "      <th>2</th>\n",
       "      <td>SVQ</td>\n",
       "      <td>aW9z</td>\n",
       "      <td>ZXM</td>\n",
       "      <td>NaN</td>\n",
       "      <td>True</td>\n",
       "      <td>LTA1OjAw</td>\n",
       "      <td>A</td>\n",
       "      <td>186.063223</td>\n",
       "      <td>650.402814</td>\n",
       "      <td>2.372309</td>\n",
       "      <td>...</td>\n",
       "      <td>249.778061</td>\n",
       "      <td>5.050894e+09</td>\n",
       "      <td>1.573227</td>\n",
       "      <td>700.112963</td>\n",
       "      <td>NaN</td>\n",
       "      <td>0.155331</td>\n",
       "      <td>1.327952</td>\n",
       "      <td>0.140478</td>\n",
       "      <td>49.276629</td>\n",
       "      <td>0.097967</td>\n",
       "    </tr>\n",
       "    <tr>\n",
       "      <th>3</th>\n",
       "      <td>R0I</td>\n",
       "      <td>YW5kc</td>\n",
       "      <td>ZXM</td>\n",
       "      <td>NaN</td>\n",
       "      <td>True</td>\n",
       "      <td>LTA0OjAw</td>\n",
       "      <td>A</td>\n",
       "      <td>144.562911</td>\n",
       "      <td>499.384425</td>\n",
       "      <td>0.010756</td>\n",
       "      <td>...</td>\n",
       "      <td>195.028589</td>\n",
       "      <td>2.703625e+09</td>\n",
       "      <td>0.843725</td>\n",
       "      <td>554.100930</td>\n",
       "      <td>NaN</td>\n",
       "      <td>0.108525</td>\n",
       "      <td>0.885378</td>\n",
       "      <td>0.152239</td>\n",
       "      <td>38.323737</td>\n",
       "      <td>0.071742</td>\n",
       "    </tr>\n",
       "    <tr>\n",
       "      <th>4</th>\n",
       "      <td>QlI</td>\n",
       "      <td>YW5kc</td>\n",
       "      <td>ZW4</td>\n",
       "      <td>YXBwb</td>\n",
       "      <td>True</td>\n",
       "      <td>NaN</td>\n",
       "      <td>A</td>\n",
       "      <td>77.314738</td>\n",
       "      <td>259.654122</td>\n",
       "      <td>26.709407</td>\n",
       "      <td>...</td>\n",
       "      <td>105.726136</td>\n",
       "      <td>-1.728980e-01</td>\n",
       "      <td>0.274720</td>\n",
       "      <td>313.339044</td>\n",
       "      <td>10.028185</td>\n",
       "      <td>0.054445</td>\n",
       "      <td>0.363698</td>\n",
       "      <td>1.058591</td>\n",
       "      <td>21.585558</td>\n",
       "      <td>0.037120</td>\n",
       "    </tr>\n",
       "  </tbody>\n",
       "</table>\n",
       "<p>5 rows × 21 columns</p>\n",
       "</div>"
      ],
      "text/plain": [
       "     c1     c2   c3     c4    c5        c6 variant          n1           n2  \\\n",
       "id                                                                            \n",
       "0   R0I  YW5kc  ZXM    NaN  True  LTA0OjAw       A  147.175163   508.833307   \n",
       "1   QVI   aW9z  cHQ  aHVhd  True  KzAzOjAw       B  288.359771  1028.901212   \n",
       "2   SVQ   aW9z  ZXM    NaN  True  LTA1OjAw       A  186.063223   650.402814   \n",
       "3   R0I  YW5kc  ZXM    NaN  True  LTA0OjAw       A  144.562911   499.384425   \n",
       "4   QlI  YW5kc  ZW4  YXBwb  True       NaN       A   77.314738   259.654122   \n",
       "\n",
       "           n3  ...          n5            n6        n7           n8  \\\n",
       "id             ...                                                    \n",
       "0    1.373772  ...  198.480790  1.513241e+09  0.877958   563.317119   \n",
       "1   13.839420  ...  384.252343  7.030908e+08  7.915538  1059.667759   \n",
       "2    2.372309  ...  249.778061  5.050894e+09  1.573227   700.112963   \n",
       "3    0.010756  ...  195.028589  2.703625e+09  0.843725   554.100930   \n",
       "4   26.709407  ...  105.726136 -1.728980e-01  0.274720   313.339044   \n",
       "\n",
       "           n9       n10       n11       n12        n13       n14  \n",
       "id                                                                \n",
       "0   18.827356  0.111096  0.910215  0.270997  38.999087  0.073268  \n",
       "1         NaN  0.360950  2.965243  0.349473  77.952363  0.185909  \n",
       "2         NaN  0.155331  1.327952  0.140478  49.276629  0.097967  \n",
       "3         NaN  0.108525  0.885378  0.152239  38.323737  0.071742  \n",
       "4   10.028185  0.054445  0.363698  1.058591  21.585558  0.037120  \n",
       "\n",
       "[5 rows x 21 columns]"
      ]
     },
     "execution_count": 3,
     "metadata": {},
     "output_type": "execute_result"
    }
   ],
   "source": [
    "df = pd.read_csv('data/hotmart_ml_test.csv', sep=',', encoding='utf-8')\n",
    "df = df.set_index('id', drop=True)\n",
    "df.head(5)"
   ]
  },
  {
   "cell_type": "markdown",
   "metadata": {},
   "source": [
    "## Verify missing values"
   ]
  },
  {
   "cell_type": "code",
   "execution_count": 4,
   "metadata": {},
   "outputs": [
    {
     "data": {
      "text/plain": [
       "c1          9.892\n",
       "c2         10.114\n",
       "c3          0.000\n",
       "c4         15.110\n",
       "c5          0.000\n",
       "c6         10.174\n",
       "variant     0.000\n",
       "n1          0.000\n",
       "n2          0.000\n",
       "n3          0.000\n",
       "n4          0.000\n",
       "n5          0.000\n",
       "n6          0.000\n",
       "n7          0.000\n",
       "n8          0.000\n",
       "n9         95.486\n",
       "n10         0.000\n",
       "n11         0.000\n",
       "n12         0.000\n",
       "n13         0.000\n",
       "n14         0.000\n",
       "dtype: float64"
      ]
     },
     "execution_count": 4,
     "metadata": {},
     "output_type": "execute_result"
    }
   ],
   "source": [
    "df.isnull().sum() / df.shape[0] * 100"
   ]
  },
  {
   "cell_type": "markdown",
   "metadata": {},
   "source": [
    "- Podemos ver claramente que temos alguns valores faltantes nas variáveis que são categóricas do usuário\n",
    "- Além disso temos a variável `n9` que representa uma feature numérica coletada antes do experimento que também possui valores faltantes\n",
    "- Vamos verificar se a variavel `n9` é dependente do tipo de experimento que foi feito (como é algo obtido anteriormente não deveria acontecer)"
   ]
  },
  {
   "cell_type": "code",
   "execution_count": 5,
   "metadata": {},
   "outputs": [
    {
     "name": "stdout",
     "output_type": "stream",
     "text": [
      "Vartiant A - n9 missing: 95.45\n",
      "Vartiant B - n9 missing: 95.58\n"
     ]
    }
   ],
   "source": [
    "print(f\"Vartiant A - n9 missing: {(df[df['variant'] == 'A']['n9'].isnull().sum() / df[df['variant'] == 'A'].shape[0] * 100):.2f}\")\n",
    "print(f\"Vartiant B - n9 missing: {(df[df['variant'] == 'B']['n9'].isnull().sum() / df[df['variant'] == 'B'].shape[0] * 100):.2f}\")"
   ]
  },
  {
   "cell_type": "markdown",
   "metadata": {},
   "source": [
    "- Não conseguimos encontrar uma relação entre a variável `n9` e o tipo de experimento como esperado, podemos prosseguir com a análise\n",
    "- Como temos uma grande porcentagem de valores faltantes e `n9` é uma variável numérica, vamos verificar se ela é significativa para o modelo"
   ]
  },
  {
   "cell_type": "code",
   "execution_count": 6,
   "metadata": {},
   "outputs": [
    {
     "data": {
      "text/html": [
       "<div>\n",
       "<style scoped>\n",
       "    .dataframe tbody tr th:only-of-type {\n",
       "        vertical-align: middle;\n",
       "    }\n",
       "\n",
       "    .dataframe tbody tr th {\n",
       "        vertical-align: top;\n",
       "    }\n",
       "\n",
       "    .dataframe thead th {\n",
       "        text-align: right;\n",
       "    }\n",
       "</style>\n",
       "<table border=\"1\" class=\"dataframe\">\n",
       "  <thead>\n",
       "    <tr style=\"text-align: right;\">\n",
       "      <th></th>\n",
       "      <th>n9</th>\n",
       "      <th>n14</th>\n",
       "    </tr>\n",
       "  </thead>\n",
       "  <tbody>\n",
       "    <tr>\n",
       "      <th>n9</th>\n",
       "      <td>1.000000</td>\n",
       "      <td>0.100089</td>\n",
       "    </tr>\n",
       "    <tr>\n",
       "      <th>n14</th>\n",
       "      <td>0.100089</td>\n",
       "      <td>1.000000</td>\n",
       "    </tr>\n",
       "  </tbody>\n",
       "</table>\n",
       "</div>"
      ],
      "text/plain": [
       "           n9       n14\n",
       "n9   1.000000  0.100089\n",
       "n14  0.100089  1.000000"
      ]
     },
     "execution_count": 6,
     "metadata": {},
     "output_type": "execute_result"
    }
   ],
   "source": [
    "df[['n9', 'n14']].dropna().corr('pearson')"
   ]
  },
  {
   "cell_type": "code",
   "execution_count": 7,
   "metadata": {},
   "outputs": [
    {
     "data": {
      "text/html": [
       "<div>\n",
       "<style scoped>\n",
       "    .dataframe tbody tr th:only-of-type {\n",
       "        vertical-align: middle;\n",
       "    }\n",
       "\n",
       "    .dataframe tbody tr th {\n",
       "        vertical-align: top;\n",
       "    }\n",
       "\n",
       "    .dataframe thead th {\n",
       "        text-align: right;\n",
       "    }\n",
       "</style>\n",
       "<table border=\"1\" class=\"dataframe\">\n",
       "  <thead>\n",
       "    <tr style=\"text-align: right;\">\n",
       "      <th></th>\n",
       "      <th>n9</th>\n",
       "      <th>n14</th>\n",
       "    </tr>\n",
       "  </thead>\n",
       "  <tbody>\n",
       "    <tr>\n",
       "      <th>n9</th>\n",
       "      <td>1.0</td>\n",
       "      <td>1.0</td>\n",
       "    </tr>\n",
       "    <tr>\n",
       "      <th>n14</th>\n",
       "      <td>1.0</td>\n",
       "      <td>1.0</td>\n",
       "    </tr>\n",
       "  </tbody>\n",
       "</table>\n",
       "</div>"
      ],
      "text/plain": [
       "      n9  n14\n",
       "n9   1.0  1.0\n",
       "n14  1.0  1.0"
      ]
     },
     "execution_count": 7,
     "metadata": {},
     "output_type": "execute_result"
    }
   ],
   "source": [
    "df[['n9', 'n14']].dropna().corr('spearman')"
   ]
  },
  {
   "cell_type": "code",
   "execution_count": 8,
   "metadata": {},
   "outputs": [
    {
     "data": {
      "text/plain": [
       "<Axes: xlabel='n9', ylabel='n14'>"
      ]
     },
     "execution_count": 8,
     "metadata": {},
     "output_type": "execute_result"
    },
    {
     "data": {
      "image/png": "[encoded data removed]",
      "text/plain": [
       "<Figure size 400x300 with 1 Axes>"
      ]
     },
     "metadata": {},
     "output_type": "display_data"
    }
   ],
   "source": [
    "plt.figure(figsize=(4, 3))\n",
    "sns.scatterplot(x='n9', y='n14', data=df[['n9', 'n14']].dropna())\n"
   ]
  },
  {
   "cell_type": "markdown",
   "metadata": {},
   "source": [
    "- A corelação de  pearson de `n9` com a variável target `n14` é baixa\n",
    "- Na correlação de spearman temos uma correlação alta, mas pode ser por conta de outliers"
   ]
  },
  {
   "cell_type": "code",
   "execution_count": 9,
   "metadata": {},
   "outputs": [
    {
     "data": {
      "text/plain": [
       "<Axes: xlabel='variant', ylabel='n14'>"
      ]
     },
     "execution_count": 9,
     "metadata": {},
     "output_type": "execute_result"
    },
    {
     "data": {
      "image/png": "[encoded data removed]",
      "text/plain": [
       "<Figure size 400x300 with 1 Axes>"
      ]
     },
     "metadata": {},
     "output_type": "display_data"
    }
   ],
   "source": [
    "plt.figure(figsize=(4, 3))\n",
    "sns.boxplot(x='variant', y='n14', data=df)"
   ]
  },
  {
   "cell_type": "code",
   "execution_count": 10,
   "metadata": {},
   "outputs": [
    {
     "data": {
      "text/plain": [
       "<Axes: xlabel='variant', ylabel='n14'>"
      ]
     },
     "execution_count": 10,
     "metadata": {},
     "output_type": "execute_result"
    },
    {
     "data": {
      "image/png": "[encoded data removed]",
      "text/plain": [
       "<Figure size 400x300 with 1 Axes>"
      ]
     },
     "metadata": {},
     "output_type": "display_data"
    }
   ],
   "source": [
    "q_max = df['n14'].quantile(0.9)\n",
    "\n",
    "plt.figure(figsize=(4, 3))\n",
    "sns.boxplot(x='variant', y='n14', data=df[(df['n14'] < q_max)])"
   ]
  },
  {
   "cell_type": "code",
   "execution_count": 11,
   "metadata": {},
   "outputs": [
    {
     "data": {
      "text/plain": [
       "<Axes: xlabel='n9', ylabel='n14'>"
      ]
     },
     "execution_count": 11,
     "metadata": {},
     "output_type": "execute_result"
    },
    {
     "data": {
      "image/png": "[encoded data removed]",
      "text/plain": [
       "<Figure size 400x300 with 1 Axes>"
      ]
     },
     "metadata": {},
     "output_type": "display_data"
    }
   ],
   "source": [
    "plt.figure(figsize=(4, 3))\n",
    "sns.scatterplot(x='n9', y='n14', data=df[(df['n14'] < q_max)][['n9', 'n14']].dropna())\n"
   ]
  },
  {
   "cell_type": "markdown",
   "metadata": {},
   "source": [
    "- A correlação de spearman de `n9` com a variável target `n14` é perfeira (1), pode ser uma variável muito importante para o modelo ou algo que foi gerado artificialmente a partir da variável target\n",
    "- Vamos verificar as variaveis categoricas faltantes"
   ]
  },
  {
   "cell_type": "code",
   "execution_count": 12,
   "metadata": {},
   "outputs": [],
   "source": [
    "target = 'n14'\n",
    "categoricas = ['c1', 'c2', 'c3', 'c4', 'c5', 'c6']"
   ]
  },
  {
   "cell_type": "code",
   "execution_count": 13,
   "metadata": {},
   "outputs": [
    {
     "name": "stdout",
     "output_type": "stream",
     "text": [
      "c1: 174\n",
      "c2: 4\n",
      "c3: 29\n",
      "c4: 268\n",
      "c5: 2\n",
      "c6: 35\n"
     ]
    }
   ],
   "source": [
    "#Numermo de categorias\n",
    "for col in categoricas:\n",
    "    print(f\"{col}: {df[col].nunique()}\")"
   ]
  },
  {
   "cell_type": "markdown",
   "metadata": {},
   "source": [
    "- Primeiro iremos verificar as variáveis categóricas que possuem poucas categorias"
   ]
  },
  {
   "cell_type": "code",
   "execution_count": 14,
   "metadata": {},
   "outputs": [
    {
     "data": {
      "image/png": "[encoded data removed]",
      "text/plain": [
       "<Figure size 1000x1000 with 2 Axes>"
      ]
     },
     "metadata": {},
     "output_type": "display_data"
    }
   ],
   "source": [
    "fig = plt.figure(figsize=(10, 10))\n",
    "for i, col in enumerate(['c2', 'c5']):\n",
    "    fig.add_subplot(3, 2, i+1)\n",
    "    sns.violinplot(x=col, y=target, data=df[(df['n14'] < q_max)].dropna())\n",
    "    fig.tight_layout()"
   ]
  },
  {
   "cell_type": "markdown",
   "metadata": {},
   "source": [
    "- Podemos perceber que a redulção da imagem de `n14` também representa uma do domínio das variáveis categóricas, ou seja, c5 por exemplo pode representar se o usuário realizou uma compra ou não (caso < `q_min`) ou uma empresa ou comprador em atacado (caso > `q_max`), e como ela não tem valores faltantes podemos considerar uma variável importante para o modelo"
   ]
  },
  {
   "cell_type": "code",
   "execution_count": 15,
   "metadata": {},
   "outputs": [
    {
     "name": "stdout",
     "output_type": "stream",
     "text": [
      "c5 Falso: 1993694647981.05\n",
      "c5 Verdadeiro: 9.28\n"
     ]
    }
   ],
   "source": [
    "print(f\"c5 Falso: {df[df['c5'] == False]['n14'].mean():.2f}\")\n",
    "print(f\"c5 Verdadeiro: {df[df['c5'] == True]['n14'].mean():.2f}\")"
   ]
  },
  {
   "cell_type": "markdown",
   "metadata": {},
   "source": [
    "- Verificando outros valores para c2"
   ]
  },
  {
   "cell_type": "code",
   "execution_count": 16,
   "metadata": {},
   "outputs": [
    {
     "name": "stdout",
     "output_type": "stream",
     "text": [
      "YW5kc: 0.03\n",
      "aW9z: 0.23\n",
      "missing: 1.04\n",
      "aHRtb: 7.03\n",
      "d2luZ: 203532633302.15\n"
     ]
    }
   ],
   "source": [
    "_df = df.copy()\n",
    "_df['c2'] = _df['c2'].fillna('missing')\n",
    "for variant in _df['c2'].unique():\n",
    "    print(f\"{variant}: {_df[_df['c2'] == variant]['n14'].mean():.2f}\")"
   ]
  },
  {
   "cell_type": "markdown",
   "metadata": {},
   "source": [
    "- Podemos ver que a categoria `d2luZ` é extremamente desbalanceada, vamos verificar a distribuição dela na base"
   ]
  },
  {
   "cell_type": "code",
   "execution_count": 17,
   "metadata": {},
   "outputs": [
    {
     "name": "stdout",
     "output_type": "stream",
     "text": [
      "YW5kc: 59.96\n",
      "aW9z: 25.43\n",
      "missing: 10.11\n",
      "aHRtb: 3.63\n",
      "d2luZ: 0.86\n"
     ]
    }
   ],
   "source": [
    "_df = df.copy()\n",
    "_df['c2'] = _df['c2'].fillna('missing')\n",
    "for variant in _df['c2'].unique():\n",
    "    print(f\"{variant}: {((_df[_df['c2'] == variant]['n14'].count())/_df.shape[0])*100:.2f}\")"
   ]
  },
  {
   "cell_type": "markdown",
   "metadata": {},
   "source": [
    "- A presença de `d2luZ` na base é muito pequena, podemos usala como uma variável para identificar outliers ou remover ela da base, nesse caso estou buscando deixar a base o mais completa possível, então não irei remove-la, mas irá impactar na escolha de um modelo mais resistente a outliers"
   ]
  },
  {
   "cell_type": "markdown",
   "metadata": {},
   "source": [
    "- Agora vamos verificar agora as colunas categóricas com muitas categorias"
   ]
  },
  {
   "cell_type": "code",
   "execution_count": 18,
   "metadata": {},
   "outputs": [
    {
     "data": {
      "text/html": [
       "<div>\n",
       "<style scoped>\n",
       "    .dataframe tbody tr th:only-of-type {\n",
       "        vertical-align: middle;\n",
       "    }\n",
       "\n",
       "    .dataframe tbody tr th {\n",
       "        vertical-align: top;\n",
       "    }\n",
       "\n",
       "    .dataframe thead th {\n",
       "        text-align: right;\n",
       "    }\n",
       "</style>\n",
       "<table border=\"1\" class=\"dataframe\">\n",
       "  <thead>\n",
       "    <tr style=\"text-align: right;\">\n",
       "      <th></th>\n",
       "      <th>n14</th>\n",
       "    </tr>\n",
       "    <tr>\n",
       "      <th>c1</th>\n",
       "      <th></th>\n",
       "    </tr>\n",
       "  </thead>\n",
       "  <tbody>\n",
       "    <tr>\n",
       "      <th>UEc</th>\n",
       "      <td>2.179115e+13</td>\n",
       "    </tr>\n",
       "    <tr>\n",
       "      <th>Vkk</th>\n",
       "      <td>1.808045e+11</td>\n",
       "    </tr>\n",
       "    <tr>\n",
       "      <th>R0Q</th>\n",
       "      <td>1.131567e+10</td>\n",
       "    </tr>\n",
       "    <tr>\n",
       "      <th>Q0Q</th>\n",
       "      <td>3.667998e+09</td>\n",
       "    </tr>\n",
       "    <tr>\n",
       "      <th>VEw</th>\n",
       "      <td>1.516742e+08</td>\n",
       "    </tr>\n",
       "    <tr>\n",
       "      <th>...</th>\n",
       "      <td>...</td>\n",
       "    </tr>\n",
       "    <tr>\n",
       "      <th>VFI</th>\n",
       "      <td>4.237430e-02</td>\n",
       "    </tr>\n",
       "    <tr>\n",
       "      <th>QlI</th>\n",
       "      <td>3.407673e-02</td>\n",
       "    </tr>\n",
       "    <tr>\n",
       "      <th>NAN</th>\n",
       "      <td>2.258934e-02</td>\n",
       "    </tr>\n",
       "    <tr>\n",
       "      <th>VVM</th>\n",
       "      <td>9.978604e-03</td>\n",
       "    </tr>\n",
       "    <tr>\n",
       "      <th>SU4</th>\n",
       "      <td>2.025828e-03</td>\n",
       "    </tr>\n",
       "  </tbody>\n",
       "</table>\n",
       "<p>175 rows × 1 columns</p>\n",
       "</div>"
      ],
      "text/plain": [
       "              n14\n",
       "c1               \n",
       "UEc  2.179115e+13\n",
       "Vkk  1.808045e+11\n",
       "R0Q  1.131567e+10\n",
       "Q0Q  3.667998e+09\n",
       "VEw  1.516742e+08\n",
       "..            ...\n",
       "VFI  4.237430e-02\n",
       "QlI  3.407673e-02\n",
       "NAN  2.258934e-02\n",
       "VVM  9.978604e-03\n",
       "SU4  2.025828e-03\n",
       "\n",
       "[175 rows x 1 columns]"
      ]
     },
     "execution_count": 18,
     "metadata": {},
     "output_type": "execute_result"
    }
   ],
   "source": [
    "_df['c1'].fillna('NAN', inplace=True)\n",
    "_df.groupby('c1')[['n14']].mean().sort_values(by='n14', ascending=False)"
   ]
  },
  {
   "cell_type": "code",
   "execution_count": 19,
   "metadata": {},
   "outputs": [
    {
     "data": {
      "text/html": [
       "<div>\n",
       "<style scoped>\n",
       "    .dataframe tbody tr th:only-of-type {\n",
       "        vertical-align: middle;\n",
       "    }\n",
       "\n",
       "    .dataframe tbody tr th {\n",
       "        vertical-align: top;\n",
       "    }\n",
       "\n",
       "    .dataframe thead th {\n",
       "        text-align: right;\n",
       "    }\n",
       "</style>\n",
       "<table border=\"1\" class=\"dataframe\">\n",
       "  <thead>\n",
       "    <tr style=\"text-align: right;\">\n",
       "      <th></th>\n",
       "      <th>n14</th>\n",
       "    </tr>\n",
       "    <tr>\n",
       "      <th>c4</th>\n",
       "      <th></th>\n",
       "    </tr>\n",
       "  </thead>\n",
       "  <tbody>\n",
       "    <tr>\n",
       "      <th>YWxpZ</th>\n",
       "      <td>2.179115e+13</td>\n",
       "    </tr>\n",
       "    <tr>\n",
       "      <th>bnV1</th>\n",
       "      <td>1.808045e+11</td>\n",
       "    </tr>\n",
       "    <tr>\n",
       "      <th>YXhpb</th>\n",
       "      <td>1.131567e+10</td>\n",
       "    </tr>\n",
       "    <tr>\n",
       "      <th>YmF1a</th>\n",
       "      <td>3.667998e+09</td>\n",
       "    </tr>\n",
       "    <tr>\n",
       "      <th>ZG9yb</th>\n",
       "      <td>1.516742e+08</td>\n",
       "    </tr>\n",
       "    <tr>\n",
       "      <th>...</th>\n",
       "      <td>...</td>\n",
       "    </tr>\n",
       "    <tr>\n",
       "      <th>eGlhb</th>\n",
       "      <td>2.410788e-01</td>\n",
       "    </tr>\n",
       "    <tr>\n",
       "      <th>aHVhd</th>\n",
       "      <td>1.808581e-01</td>\n",
       "    </tr>\n",
       "    <tr>\n",
       "      <th>NAN</th>\n",
       "      <td>1.047684e-01</td>\n",
       "    </tr>\n",
       "    <tr>\n",
       "      <th>YXBwb</th>\n",
       "      <td>3.618582e-02</td>\n",
       "    </tr>\n",
       "    <tr>\n",
       "      <th>c2Ftc</th>\n",
       "      <td>5.363453e-03</td>\n",
       "    </tr>\n",
       "  </tbody>\n",
       "</table>\n",
       "<p>269 rows × 1 columns</p>\n",
       "</div>"
      ],
      "text/plain": [
       "                n14\n",
       "c4                 \n",
       "YWxpZ  2.179115e+13\n",
       "bnV1   1.808045e+11\n",
       "YXhpb  1.131567e+10\n",
       "YmF1a  3.667998e+09\n",
       "ZG9yb  1.516742e+08\n",
       "...             ...\n",
       "eGlhb  2.410788e-01\n",
       "aHVhd  1.808581e-01\n",
       "NAN    1.047684e-01\n",
       "YXBwb  3.618582e-02\n",
       "c2Ftc  5.363453e-03\n",
       "\n",
       "[269 rows x 1 columns]"
      ]
     },
     "execution_count": 19,
     "metadata": {},
     "output_type": "execute_result"
    }
   ],
   "source": [
    "_df = df.copy()\n",
    "_df['c4'].fillna('NAN', inplace=True)\n",
    "_df.groupby('c4')[['n14']].mean().sort_values(by='n14', ascending=False)"
   ]
  },
  {
   "cell_type": "code",
   "execution_count": 20,
   "metadata": {},
   "outputs": [],
   "source": [
    "del _df"
   ]
  },
  {
   "cell_type": "markdown",
   "metadata": {},
   "source": [
    "- Podemos ver que em ambos os casos a média das variáveis NAN é bem a baixo do resto de outros valores, portanto não acredito ser uma boa ideia substituir pela média total\n",
    "- Agora iremos verificar `c6` que não havia entrado na análise anterior"
   ]
  },
  {
   "cell_type": "code",
   "execution_count": 21,
   "metadata": {},
   "outputs": [
    {
     "data": {
      "text/html": [
       "<div>\n",
       "<style scoped>\n",
       "    .dataframe tbody tr th:only-of-type {\n",
       "        vertical-align: middle;\n",
       "    }\n",
       "\n",
       "    .dataframe tbody tr th {\n",
       "        vertical-align: top;\n",
       "    }\n",
       "\n",
       "    .dataframe thead th {\n",
       "        text-align: right;\n",
       "    }\n",
       "</style>\n",
       "<table border=\"1\" class=\"dataframe\">\n",
       "  <thead>\n",
       "    <tr style=\"text-align: right;\">\n",
       "      <th></th>\n",
       "      <th>n14</th>\n",
       "    </tr>\n",
       "    <tr>\n",
       "      <th>c6</th>\n",
       "      <th></th>\n",
       "    </tr>\n",
       "  </thead>\n",
       "  <tbody>\n",
       "    <tr>\n",
       "      <th>LTA0OjAw</th>\n",
       "      <td>0.065845</td>\n",
       "    </tr>\n",
       "    <tr>\n",
       "      <th>NAN</th>\n",
       "      <td>0.039564</td>\n",
       "    </tr>\n",
       "    <tr>\n",
       "      <th>ZWdhbF9zdHJp</th>\n",
       "      <td>0.021358</td>\n",
       "    </tr>\n",
       "    <tr>\n",
       "      <th>KzA1OjMw</th>\n",
       "      <td>0.009290</td>\n",
       "    </tr>\n",
       "    <tr>\n",
       "      <th>KzAyOjAw</th>\n",
       "      <td>0.001950</td>\n",
       "    </tr>\n",
       "  </tbody>\n",
       "</table>\n",
       "</div>"
      ],
      "text/plain": [
       "                   n14\n",
       "c6                    \n",
       "LTA0OjAw      0.065845\n",
       "NAN           0.039564\n",
       "ZWdhbF9zdHJp  0.021358\n",
       "KzA1OjMw      0.009290\n",
       "KzAyOjAw      0.001950"
      ]
     },
     "execution_count": 21,
     "metadata": {},
     "output_type": "execute_result"
    }
   ],
   "source": [
    "_df = df.copy()\n",
    "_df['c6'].fillna('NAN', inplace=True)\n",
    "_df.groupby('c6')[['n14']].mean().sort_values(by='n14', ascending=False).tail(5)"
   ]
  },
  {
   "cell_type": "markdown",
   "metadata": {},
   "source": [
    "- Podemos ver novamente que os valores faltantes de `c6` possuem uma média bem abaixo do resto, portanto podemos pensar em algum método como um modelo próprio de classificação para preencher os valores faltantes"
   ]
  },
  {
   "cell_type": "markdown",
   "metadata": {},
   "source": [
    "#### Resultado da análise de missing values\n",
    "\n",
    "- c1 & c4 & c6: A categoria de missing está baixo da média na variável target `n14`, usar algum modelo para preencher os valores faltantes \n",
    "- c2: A categoria de missing está perto da média, podemos tentar substirtuir pela moda ou usar algum modelo para preencher os valores faltantes\n",
    "- n9: Tem uma correlação de spearman perfeita com a variável target `n14`, porém existem muitos valores faltantes, podemos tentar usar um modelo poderia enviesar os dados, acredito que poderia ser interessante constuir um modelo para ser utilizado quando possuímos essa variável e outro quando não possuímos, remove-la seria muito custoso para nossa previsão"
   ]
  },
  {
   "cell_type": "markdown",
   "metadata": {},
   "source": [
    "## EDA - Summary"
   ]
  },
  {
   "cell_type": "markdown",
   "metadata": {},
   "source": [
    "#### Variáveis quantitativas anteriores ao experimento"
   ]
  },
  {
   "cell_type": "code",
   "execution_count": 22,
   "metadata": {},
   "outputs": [
    {
     "data": {
      "image/png": "[encoded data removed]",
      "text/plain": [
       "<Figure size 1000x1000 with 12 Axes>"
      ]
     },
     "metadata": {},
     "output_type": "display_data"
    }
   ],
   "source": [
    "fig = plt.figure(figsize=(10, 10))\n",
    "\n",
    "variant_a = df[df['variant'] == 'A'].head(5000)\n",
    "variant_b = df[df['variant'] == 'B'].head(5000)\n",
    "_df = pd.concat([variant_a, variant_b])\n",
    "\n",
    "for i, col in enumerate([f'n{n}' for n in range(1,13)]):\n",
    "    fig.add_subplot(6, 2, i+1)\n",
    "    if col == 'n3':\n",
    "        _q_max = 40\n",
    "    elif col in ['n7', 'n10']:\n",
    "        _q_max = _df[col].quantile(0.75)\n",
    "    else:\n",
    "        _q_max = _df[col].quantile(0.95)\n",
    "    _q_min = _df[col].quantile(0.05)\n",
    "    _data = _df[(_df[col] < _q_max) & (_df[col] > _q_min)][[col, 'variant']]\n",
    "    sns.histplot(x=col, data=_data, hue='variant', bins=30)\n",
    "    fig.tight_layout()\n",
    "\n"
   ]
  },
  {
   "cell_type": "markdown",
   "metadata": {},
   "source": [
    "### Variáveis categoricas do usuário"
   ]
  },
  {
   "cell_type": "code",
   "execution_count": 23,
   "metadata": {},
   "outputs": [
    {
     "data": {
      "image/png": "[encoded data removed]",
      "text/plain": [
       "<Figure size 1000x1000 with 6 Axes>"
      ]
     },
     "metadata": {},
     "output_type": "display_data"
    }
   ],
   "source": [
    "fig = plt.figure(figsize=(10, 10))\n",
    "\n",
    "variant_a = df[df['variant'] == 'A'].head(5000)\n",
    "variant_b = df[df['variant'] == 'B'].head(5000)\n",
    "_df = pd.concat([variant_a, variant_b])\n",
    "\n",
    "for i, col in enumerate([f'c{n}' for n in range(1,7)]):\n",
    "    fig.add_subplot(3, 2, i+1)\n",
    "    sns.countplot(x=col, data=_df, hue='variant')\n",
    "    plt.xticks([])\n",
    "    fig.tight_layout()"
   ]
  },
  {
   "cell_type": "markdown",
   "metadata": {},
   "source": [
    "#### Receita"
   ]
  },
  {
   "cell_type": "markdown",
   "metadata": {},
   "source": [
    "- Para a parte de EDA, além da variável de revenue `n14` também irei utilizar a variável `n13` de engajamento do usuário durante o teste e uma variável composta de `n13` com `n1` chamada `delta_engajamento` que representa a diferença entre o engajamento do usuário durante o teste e o engajamento do usuário antes do teste\n",
    "- Começaremos verificando a variável target `n14` como estavamos utilizando anteriormente"
   ]
  },
  {
   "cell_type": "code",
   "execution_count": 24,
   "metadata": {},
   "outputs": [
    {
     "data": {
      "text/html": [
       "<div>\n",
       "<style scoped>\n",
       "    .dataframe tbody tr th:only-of-type {\n",
       "        vertical-align: middle;\n",
       "    }\n",
       "\n",
       "    .dataframe tbody tr th {\n",
       "        vertical-align: top;\n",
       "    }\n",
       "\n",
       "    .dataframe thead th {\n",
       "        text-align: right;\n",
       "    }\n",
       "</style>\n",
       "<table border=\"1\" class=\"dataframe\">\n",
       "  <thead>\n",
       "    <tr style=\"text-align: right;\">\n",
       "      <th></th>\n",
       "      <th>count</th>\n",
       "      <th>mean</th>\n",
       "      <th>std</th>\n",
       "      <th>min</th>\n",
       "      <th>1%</th>\n",
       "      <th>5%</th>\n",
       "      <th>25%</th>\n",
       "      <th>50%</th>\n",
       "      <th>75%</th>\n",
       "      <th>95%</th>\n",
       "      <th>99%</th>\n",
       "      <th>max</th>\n",
       "    </tr>\n",
       "  </thead>\n",
       "  <tbody>\n",
       "    <tr>\n",
       "      <th>n14</th>\n",
       "      <td>50000.0</td>\n",
       "      <td>1.754451e+09</td>\n",
       "      <td>3.632668e+11</td>\n",
       "      <td>0.000001</td>\n",
       "      <td>0.000125</td>\n",
       "      <td>0.000988</td>\n",
       "      <td>0.01209</td>\n",
       "      <td>0.055914</td>\n",
       "      <td>0.230044</td>\n",
       "      <td>2.015118</td>\n",
       "      <td>22.399828</td>\n",
       "      <td>8.112489e+13</td>\n",
       "    </tr>\n",
       "  </tbody>\n",
       "</table>\n",
       "</div>"
      ],
      "text/plain": [
       "       count          mean           std       min        1%        5%  \\\n",
       "n14  50000.0  1.754451e+09  3.632668e+11  0.000001  0.000125  0.000988   \n",
       "\n",
       "         25%       50%       75%       95%        99%           max  \n",
       "n14  0.01209  0.055914  0.230044  2.015118  22.399828  8.112489e+13  "
      ]
     },
     "execution_count": 24,
     "metadata": {},
     "output_type": "execute_result"
    }
   ],
   "source": [
    "df.describe([0.01, 0.05, 0.25, 0.5, 0.75, 0.95, 0.99])[['n14']].T"
   ]
  },
  {
   "cell_type": "code",
   "execution_count": 25,
   "metadata": {},
   "outputs": [
    {
     "data": {
      "text/html": [
       "<div>\n",
       "<style scoped>\n",
       "    .dataframe tbody tr th:only-of-type {\n",
       "        vertical-align: middle;\n",
       "    }\n",
       "\n",
       "    .dataframe tbody tr th {\n",
       "        vertical-align: top;\n",
       "    }\n",
       "\n",
       "    .dataframe thead tr th {\n",
       "        text-align: left;\n",
       "    }\n",
       "\n",
       "    .dataframe thead tr:last-of-type th {\n",
       "        text-align: right;\n",
       "    }\n",
       "</style>\n",
       "<table border=\"1\" class=\"dataframe\">\n",
       "  <thead>\n",
       "    <tr>\n",
       "      <th></th>\n",
       "      <th colspan=\"12\" halign=\"left\">n14</th>\n",
       "    </tr>\n",
       "    <tr>\n",
       "      <th></th>\n",
       "      <th>count</th>\n",
       "      <th>mean</th>\n",
       "      <th>std</th>\n",
       "      <th>min</th>\n",
       "      <th>1%</th>\n",
       "      <th>5%</th>\n",
       "      <th>25%</th>\n",
       "      <th>50%</th>\n",
       "      <th>75%</th>\n",
       "      <th>95%</th>\n",
       "      <th>99%</th>\n",
       "      <th>max</th>\n",
       "    </tr>\n",
       "    <tr>\n",
       "      <th>variant</th>\n",
       "      <th></th>\n",
       "      <th></th>\n",
       "      <th></th>\n",
       "      <th></th>\n",
       "      <th></th>\n",
       "      <th></th>\n",
       "      <th></th>\n",
       "      <th></th>\n",
       "      <th></th>\n",
       "      <th></th>\n",
       "      <th></th>\n",
       "      <th></th>\n",
       "    </tr>\n",
       "  </thead>\n",
       "  <tbody>\n",
       "    <tr>\n",
       "      <th>A</th>\n",
       "      <td>35280.0</td>\n",
       "      <td>4.191779e-02</td>\n",
       "      <td>4.452804e-02</td>\n",
       "      <td>0.000001</td>\n",
       "      <td>0.000083</td>\n",
       "      <td>0.000611</td>\n",
       "      <td>0.006444</td>\n",
       "      <td>0.024295</td>\n",
       "      <td>0.065159</td>\n",
       "      <td>0.140432</td>\n",
       "      <td>0.165992</td>\n",
       "      <td>1.732890e-01</td>\n",
       "    </tr>\n",
       "    <tr>\n",
       "      <th>B</th>\n",
       "      <td>14720.0</td>\n",
       "      <td>5.959413e+09</td>\n",
       "      <td>6.695068e+11</td>\n",
       "      <td>0.173297</td>\n",
       "      <td>0.176558</td>\n",
       "      <td>0.190385</td>\n",
       "      <td>0.279915</td>\n",
       "      <td>0.504498</td>\n",
       "      <td>1.234959</td>\n",
       "      <td>11.280494</td>\n",
       "      <td>298.475978</td>\n",
       "      <td>8.112489e+13</td>\n",
       "    </tr>\n",
       "  </tbody>\n",
       "</table>\n",
       "</div>"
      ],
      "text/plain": [
       "             n14                                                            \\\n",
       "           count          mean           std       min        1%        5%   \n",
       "variant                                                                      \n",
       "A        35280.0  4.191779e-02  4.452804e-02  0.000001  0.000083  0.000611   \n",
       "B        14720.0  5.959413e+09  6.695068e+11  0.173297  0.176558  0.190385   \n",
       "\n",
       "                                                                            \n",
       "              25%       50%       75%        95%         99%           max  \n",
       "variant                                                                     \n",
       "A        0.006444  0.024295  0.065159   0.140432    0.165992  1.732890e-01  \n",
       "B        0.279915  0.504498  1.234959  11.280494  298.475978  8.112489e+13  "
      ]
     },
     "execution_count": 25,
     "metadata": {},
     "output_type": "execute_result"
    }
   ],
   "source": [
    "df.groupby('variant')[['n14']].describe([0.01, 0.05, 0.25, 0.5, 0.75, 0.95, 0.99])"
   ]
  },
  {
   "cell_type": "code",
   "execution_count": 26,
   "metadata": {},
   "outputs": [
    {
     "data": {
      "text/plain": [
       "<Axes: xlabel='n14', ylabel='Count'>"
      ]
     },
     "execution_count": 26,
     "metadata": {},
     "output_type": "execute_result"
    },
    {
     "data": {
      "image/png": "[encoded data removed]",
      "text/plain": [
       "<Figure size 640x480 with 1 Axes>"
      ]
     },
     "metadata": {},
     "output_type": "display_data"
    }
   ],
   "source": [
    "sns.histplot(data=df[(df['n14'] < q_max)], x='n14', hue='variant', bins=50, kde=True)"
   ]
  },
  {
   "cell_type": "code",
   "execution_count": 27,
   "metadata": {},
   "outputs": [
    {
     "data": {
      "text/plain": [
       "<Axes: xlabel='n14', ylabel='Count'>"
      ]
     },
     "execution_count": 27,
     "metadata": {},
     "output_type": "execute_result"
    },
    {
     "data": {
      "image/png": "[encoded data removed]",
      "text/plain": [
       "<Figure size 640x480 with 1 Axes>"
      ]
     },
     "metadata": {},
     "output_type": "display_data"
    }
   ],
   "source": [
    "sns.histplot(data=df[(df['n14'] < q_max) & (df['variant'] == 'B')], x='n14', color='orange', bins=50, kde=True)"
   ]
  },
  {
   "cell_type": "markdown",
   "metadata": {},
   "source": [
    "- Podemos perceber que a variante `B` do teste aumenta a receita do usuário, ainda criando o fenômeno de outliers na receita, isso precisa ser investigado mais a fundo, mas podemos ver que a variante `B` é melhor que a `A` em termos de receita\n",
    "- Podemos ver que a variante `A` se parece muito com uma função de densidade de probababilidade exponencial, enquanto a variante `B` é como uma função de densidade de probabilidade normal de cauda longa para a direita\n",
    "- Outra coisa que percebemos é que a variante `A` possui uma maior quantidade de usuários\n",
    "- Agora vamos verificar a variável `n13` de engajamento do usuário durante o teste"
   ]
  },
  {
   "cell_type": "markdown",
   "metadata": {},
   "source": [
    "### Engajamento"
   ]
  },
  {
   "cell_type": "code",
   "execution_count": 28,
   "metadata": {},
   "outputs": [
    {
     "data": {
      "text/plain": [
       "<Axes: xlabel='n1', ylabel='n13'>"
      ]
     },
     "execution_count": 28,
     "metadata": {},
     "output_type": "execute_result"
    },
    {
     "data": {
      "image/png": "[encoded data removed]",
      "text/plain": [
       "<Figure size 640x480 with 1 Axes>"
      ]
     },
     "metadata": {},
     "output_type": "display_data"
    }
   ],
   "source": [
    "# Comparando o perfil da variável n1 com n13\n",
    "q_max_n13 = df['n13'].quantile(0.95)\n",
    "sns.scatterplot(x='n1', y='n13', data=df[df['n13'] < q_max_n13], hue='variant', alpha=0.25)"
   ]
  },
  {
   "cell_type": "code",
   "execution_count": 29,
   "metadata": {},
   "outputs": [
    {
     "data": {
      "text/plain": [
       "<Axes: xlabel='n1', ylabel='Count'>"
      ]
     },
     "execution_count": 29,
     "metadata": {},
     "output_type": "execute_result"
    },
    {
     "data": {
      "image/png": "[encoded data removed]",
      "text/plain": [
       "<Figure size 640x480 with 1 Axes>"
      ]
     },
     "metadata": {},
     "output_type": "display_data"
    }
   ],
   "source": [
    "q_max_n1 = df['n1'].quantile(0.95)\n",
    "sns.histplot(data=df[df['n1'] < q_max_n1], x='n1', hue='variant', bins=50, kde=True)"
   ]
  },
  {
   "cell_type": "markdown",
   "metadata": {},
   "source": [
    "- Temos um comportamento praticamente linear como esperado, se o usuário teve um engajamento alto antes do teste, ele provavelmente terá um engajamento alto durante o teste, o mesmo vale para um engajamento baixo\n",
    "- Algo importante de se notar é que a variante `B` foi aplicada em usuários com um engajamento maior que a variante `A` antes do teste, isso pode ser um fator importante para o aumento da receita e pode dar explicações para a diferença de engajamento"
   ]
  },
  {
   "cell_type": "code",
   "execution_count": 30,
   "metadata": {},
   "outputs": [
    {
     "data": {
      "text/html": [
       "<div>\n",
       "<style scoped>\n",
       "    .dataframe tbody tr th:only-of-type {\n",
       "        vertical-align: middle;\n",
       "    }\n",
       "\n",
       "    .dataframe tbody tr th {\n",
       "        vertical-align: top;\n",
       "    }\n",
       "\n",
       "    .dataframe thead th {\n",
       "        text-align: right;\n",
       "    }\n",
       "</style>\n",
       "<table border=\"1\" class=\"dataframe\">\n",
       "  <thead>\n",
       "    <tr style=\"text-align: right;\">\n",
       "      <th></th>\n",
       "      <th>count</th>\n",
       "      <th>mean</th>\n",
       "      <th>std</th>\n",
       "      <th>min</th>\n",
       "      <th>1%</th>\n",
       "      <th>5%</th>\n",
       "      <th>25%</th>\n",
       "      <th>50%</th>\n",
       "      <th>75%</th>\n",
       "      <th>95%</th>\n",
       "      <th>99%</th>\n",
       "      <th>max</th>\n",
       "    </tr>\n",
       "  </thead>\n",
       "  <tbody>\n",
       "    <tr>\n",
       "      <th>n13</th>\n",
       "      <td>50000.0</td>\n",
       "      <td>62.121726</td>\n",
       "      <td>84.047901</td>\n",
       "      <td>-0.383024</td>\n",
       "      <td>-0.083161</td>\n",
       "      <td>0.748439</td>\n",
       "      <td>7.688947</td>\n",
       "      <td>31.016539</td>\n",
       "      <td>89.016613</td>\n",
       "      <td>214.608171</td>\n",
       "      <td>351.389094</td>\n",
       "      <td>2307.458796</td>\n",
       "    </tr>\n",
       "  </tbody>\n",
       "</table>\n",
       "</div>"
      ],
      "text/plain": [
       "       count       mean        std       min        1%        5%       25%  \\\n",
       "n13  50000.0  62.121726  84.047901 -0.383024 -0.083161  0.748439  7.688947   \n",
       "\n",
       "           50%        75%         95%         99%          max  \n",
       "n13  31.016539  89.016613  214.608171  351.389094  2307.458796  "
      ]
     },
     "execution_count": 30,
     "metadata": {},
     "output_type": "execute_result"
    }
   ],
   "source": [
    "df.describe([0.01, 0.05, 0.25, 0.5, 0.75, 0.95, 0.99])[['n13']].T\n",
    "# Valores negativos?"
   ]
  },
  {
   "cell_type": "code",
   "execution_count": 31,
   "metadata": {},
   "outputs": [
    {
     "data": {
      "text/html": [
       "<div>\n",
       "<style scoped>\n",
       "    .dataframe tbody tr th:only-of-type {\n",
       "        vertical-align: middle;\n",
       "    }\n",
       "\n",
       "    .dataframe tbody tr th {\n",
       "        vertical-align: top;\n",
       "    }\n",
       "\n",
       "    .dataframe thead tr th {\n",
       "        text-align: left;\n",
       "    }\n",
       "\n",
       "    .dataframe thead tr:last-of-type th {\n",
       "        text-align: right;\n",
       "    }\n",
       "</style>\n",
       "<table border=\"1\" class=\"dataframe\">\n",
       "  <thead>\n",
       "    <tr>\n",
       "      <th></th>\n",
       "      <th colspan=\"12\" halign=\"left\">n13</th>\n",
       "    </tr>\n",
       "    <tr>\n",
       "      <th></th>\n",
       "      <th>count</th>\n",
       "      <th>mean</th>\n",
       "      <th>std</th>\n",
       "      <th>min</th>\n",
       "      <th>1%</th>\n",
       "      <th>5%</th>\n",
       "      <th>25%</th>\n",
       "      <th>50%</th>\n",
       "      <th>75%</th>\n",
       "      <th>95%</th>\n",
       "      <th>99%</th>\n",
       "      <th>max</th>\n",
       "    </tr>\n",
       "    <tr>\n",
       "      <th>variant</th>\n",
       "      <th></th>\n",
       "      <th></th>\n",
       "      <th></th>\n",
       "      <th></th>\n",
       "      <th></th>\n",
       "      <th></th>\n",
       "      <th></th>\n",
       "      <th></th>\n",
       "      <th></th>\n",
       "      <th></th>\n",
       "      <th></th>\n",
       "      <th></th>\n",
       "    </tr>\n",
       "  </thead>\n",
       "  <tbody>\n",
       "    <tr>\n",
       "      <th>A</th>\n",
       "      <td>35280.0</td>\n",
       "      <td>21.820021</td>\n",
       "      <td>20.634553</td>\n",
       "      <td>-0.383024</td>\n",
       "      <td>-0.150047</td>\n",
       "      <td>0.435501</td>\n",
       "      <td>4.318829</td>\n",
       "      <td>14.656728</td>\n",
       "      <td>35.352569</td>\n",
       "      <td>64.447703</td>\n",
       "      <td>72.337286</td>\n",
       "      <td>74.444739</td>\n",
       "    </tr>\n",
       "    <tr>\n",
       "      <th>B</th>\n",
       "      <td>14720.0</td>\n",
       "      <td>158.714401</td>\n",
       "      <td>98.749460</td>\n",
       "      <td>74.447050</td>\n",
       "      <td>75.369593</td>\n",
       "      <td>79.156517</td>\n",
       "      <td>99.691058</td>\n",
       "      <td>133.410302</td>\n",
       "      <td>185.994554</td>\n",
       "      <td>313.205385</td>\n",
       "      <td>491.741872</td>\n",
       "      <td>2307.458796</td>\n",
       "    </tr>\n",
       "  </tbody>\n",
       "</table>\n",
       "</div>"
      ],
      "text/plain": [
       "             n13                                                          \\\n",
       "           count        mean        std        min         1%         5%   \n",
       "variant                                                                    \n",
       "A        35280.0   21.820021  20.634553  -0.383024  -0.150047   0.435501   \n",
       "B        14720.0  158.714401  98.749460  74.447050  75.369593  79.156517   \n",
       "\n",
       "                                                                    \\\n",
       "               25%         50%         75%         95%         99%   \n",
       "variant                                                              \n",
       "A         4.318829   14.656728   35.352569   64.447703   72.337286   \n",
       "B        99.691058  133.410302  185.994554  313.205385  491.741872   \n",
       "\n",
       "                      \n",
       "                 max  \n",
       "variant               \n",
       "A          74.444739  \n",
       "B        2307.458796  "
      ]
     },
     "execution_count": 31,
     "metadata": {},
     "output_type": "execute_result"
    }
   ],
   "source": [
    "df.groupby('variant')[['n13']].describe([0.01, 0.05, 0.25, 0.5, 0.75, 0.95, 0.99])"
   ]
  },
  {
   "cell_type": "code",
   "execution_count": 32,
   "metadata": {},
   "outputs": [
    {
     "data": {
      "text/plain": [
       "<Axes: xlabel='n13', ylabel='Count'>"
      ]
     },
     "execution_count": 32,
     "metadata": {},
     "output_type": "execute_result"
    },
    {
     "data": {
      "image/png": "[encoded data removed]",
      "text/plain": [
       "<Figure size 640x480 with 1 Axes>"
      ]
     },
     "metadata": {},
     "output_type": "display_data"
    }
   ],
   "source": [
    "q_max_n13 = df['n13'].quantile(0.99)\n",
    "sns.histplot(data=df[df['n13'] < q_max_n13], x='n13', hue='variant', bins=50, kde=True)"
   ]
  },
  {
   "cell_type": "markdown",
   "metadata": {},
   "source": [
    "- Novamente temos o mesmo comportamento quanto a distribuição\n",
    "- Agora vamos verificar a variável `delta_engajamento` que representa a diferença entre o engajamento do usuário durante o teste e o engajamento do usuário antes do teste"
   ]
  },
  {
   "cell_type": "code",
   "execution_count": 33,
   "metadata": {},
   "outputs": [
    {
     "data": {
      "text/html": [
       "<div>\n",
       "<style scoped>\n",
       "    .dataframe tbody tr th:only-of-type {\n",
       "        vertical-align: middle;\n",
       "    }\n",
       "\n",
       "    .dataframe tbody tr th {\n",
       "        vertical-align: top;\n",
       "    }\n",
       "\n",
       "    .dataframe thead th {\n",
       "        text-align: right;\n",
       "    }\n",
       "</style>\n",
       "<table border=\"1\" class=\"dataframe\">\n",
       "  <thead>\n",
       "    <tr style=\"text-align: right;\">\n",
       "      <th></th>\n",
       "      <th>count</th>\n",
       "      <th>mean</th>\n",
       "      <th>std</th>\n",
       "      <th>min</th>\n",
       "      <th>1%</th>\n",
       "      <th>5%</th>\n",
       "      <th>25%</th>\n",
       "      <th>50%</th>\n",
       "      <th>75%</th>\n",
       "      <th>95%</th>\n",
       "      <th>99%</th>\n",
       "      <th>max</th>\n",
       "    </tr>\n",
       "  </thead>\n",
       "  <tbody>\n",
       "    <tr>\n",
       "      <th>delta_engajamento</th>\n",
       "      <td>50000.0</td>\n",
       "      <td>-165.4572</td>\n",
       "      <td>240.205464</td>\n",
       "      <td>-6840.381211</td>\n",
       "      <td>-1014.827541</td>\n",
       "      <td>-571.358858</td>\n",
       "      <td>-237.477895</td>\n",
       "      <td>-84.786111</td>\n",
       "      <td>-12.069519</td>\n",
       "      <td>1.207743</td>\n",
       "      <td>1.358492</td>\n",
       "      <td>1.365066</td>\n",
       "    </tr>\n",
       "  </tbody>\n",
       "</table>\n",
       "</div>"
      ],
      "text/plain": [
       "                     count      mean         std          min           1%  \\\n",
       "delta_engajamento  50000.0 -165.4572  240.205464 -6840.381211 -1014.827541   \n",
       "\n",
       "                           5%         25%        50%        75%       95%  \\\n",
       "delta_engajamento -571.358858 -237.477895 -84.786111 -12.069519  1.207743   \n",
       "\n",
       "                        99%       max  \n",
       "delta_engajamento  1.358492  1.365066  "
      ]
     },
     "execution_count": 33,
     "metadata": {},
     "output_type": "execute_result"
    }
   ],
   "source": [
    "df['delta_engajamento'] = df['n13'] - df['n1']\n",
    "df[['delta_engajamento']].describe([0.01, 0.05, 0.25, 0.5, 0.75, 0.95, 0.99]).T"
   ]
  },
  {
   "cell_type": "code",
   "execution_count": 34,
   "metadata": {},
   "outputs": [
    {
     "data": {
      "text/plain": [
       "<Axes: xlabel='delta_engajamento', ylabel='Count'>"
      ]
     },
     "execution_count": 34,
     "metadata": {},
     "output_type": "execute_result"
    },
    {
     "data": {
      "image/png": "[encoded data removed]",
      "text/plain": [
       "<Figure size 640x480 with 1 Axes>"
      ]
     },
     "metadata": {},
     "output_type": "display_data"
    }
   ],
   "source": [
    "sns.histplot(data=df, x='delta_engajamento', hue='variant', bins=50, kde=True)"
   ]
  },
  {
   "cell_type": "code",
   "execution_count": 35,
   "metadata": {},
   "outputs": [
    {
     "data": {
      "text/plain": [
       "<Axes: xlabel='delta_engajamento', ylabel='Count'>"
      ]
     },
     "execution_count": 35,
     "metadata": {},
     "output_type": "execute_result"
    },
    {
     "data": {
      "image/png": "[encoded data removed]",
      "text/plain": [
       "<Figure size 640x480 with 1 Axes>"
      ]
     },
     "metadata": {},
     "output_type": "display_data"
    }
   ],
   "source": [
    "q_min_delta = df['delta_engajamento'].quantile(0.01)\n",
    "sns.histplot(data=df[df['delta_engajamento'] > q_min_delta], x='delta_engajamento', hue='variant', bins=50, kde=True)"
   ]
  },
  {
   "cell_type": "code",
   "execution_count": 36,
   "metadata": {},
   "outputs": [
    {
     "data": {
      "text/plain": [
       "<Axes: xlabel='delta_engajamento', ylabel='Count'>"
      ]
     },
     "execution_count": 36,
     "metadata": {},
     "output_type": "execute_result"
    },
    {
     "data": {
      "image/png": "[encoded data removed]",
      "text/plain": [
       "<Figure size 640x480 with 1 Axes>"
      ]
     },
     "metadata": {},
     "output_type": "display_data"
    }
   ],
   "source": [
    "sns.histplot(data=df[df['delta_engajamento'] < q_min_delta], x='delta_engajamento', hue='variant',\n",
    "             palette= {\"A\":\"blue\", \"B\":\"orange\"}, bins=50, kde=True)"
   ]
  },
  {
   "cell_type": "code",
   "execution_count": 37,
   "metadata": {},
   "outputs": [],
   "source": [
    "del df['delta_engajamento']"
   ]
  },
  {
   "cell_type": "markdown",
   "metadata": {},
   "source": [
    "- Aqui já temos um comportamento diferente do esperado, a variante `B` possuí uma calda longa para a esquerda, o que pode indicar que diminuiu consideravelmente o engajamento de alguns heavy users, enquanto a variante `A` está mais próxima do esperado"
   ]
  },
  {
   "cell_type": "markdown",
   "metadata": {},
   "source": [
    "## Hypothesis Testing"
   ]
  },
  {
   "cell_type": "code",
   "execution_count": 38,
   "metadata": {},
   "outputs": [
    {
     "data": {
      "text/html": [
       "<div>\n",
       "<style scoped>\n",
       "    .dataframe tbody tr th:only-of-type {\n",
       "        vertical-align: middle;\n",
       "    }\n",
       "\n",
       "    .dataframe tbody tr th {\n",
       "        vertical-align: top;\n",
       "    }\n",
       "\n",
       "    .dataframe thead th {\n",
       "        text-align: right;\n",
       "    }\n",
       "</style>\n",
       "<table border=\"1\" class=\"dataframe\">\n",
       "  <thead>\n",
       "    <tr style=\"text-align: right;\">\n",
       "      <th></th>\n",
       "      <th>c1</th>\n",
       "      <th>c2</th>\n",
       "      <th>c3</th>\n",
       "      <th>c4</th>\n",
       "      <th>c5</th>\n",
       "      <th>c6</th>\n",
       "      <th>variant</th>\n",
       "      <th>n1</th>\n",
       "      <th>n2</th>\n",
       "      <th>n3</th>\n",
       "      <th>...</th>\n",
       "      <th>n5</th>\n",
       "      <th>n6</th>\n",
       "      <th>n7</th>\n",
       "      <th>n8</th>\n",
       "      <th>n9</th>\n",
       "      <th>n10</th>\n",
       "      <th>n11</th>\n",
       "      <th>n12</th>\n",
       "      <th>n13</th>\n",
       "      <th>n14</th>\n",
       "    </tr>\n",
       "    <tr>\n",
       "      <th>id</th>\n",
       "      <th></th>\n",
       "      <th></th>\n",
       "      <th></th>\n",
       "      <th></th>\n",
       "      <th></th>\n",
       "      <th></th>\n",
       "      <th></th>\n",
       "      <th></th>\n",
       "      <th></th>\n",
       "      <th></th>\n",
       "      <th></th>\n",
       "      <th></th>\n",
       "      <th></th>\n",
       "      <th></th>\n",
       "      <th></th>\n",
       "      <th></th>\n",
       "      <th></th>\n",
       "      <th></th>\n",
       "      <th></th>\n",
       "      <th></th>\n",
       "      <th></th>\n",
       "    </tr>\n",
       "  </thead>\n",
       "  <tbody>\n",
       "    <tr>\n",
       "      <th>0</th>\n",
       "      <td>R0I</td>\n",
       "      <td>YW5kc</td>\n",
       "      <td>ZXM</td>\n",
       "      <td>NaN</td>\n",
       "      <td>True</td>\n",
       "      <td>LTA0OjAw</td>\n",
       "      <td>A</td>\n",
       "      <td>147.175163</td>\n",
       "      <td>508.833307</td>\n",
       "      <td>1.373772</td>\n",
       "      <td>...</td>\n",
       "      <td>198.480790</td>\n",
       "      <td>1.513241e+09</td>\n",
       "      <td>0.877958</td>\n",
       "      <td>563.317119</td>\n",
       "      <td>18.827356</td>\n",
       "      <td>0.111096</td>\n",
       "      <td>0.910215</td>\n",
       "      <td>0.270997</td>\n",
       "      <td>38.999087</td>\n",
       "      <td>0.073268</td>\n",
       "    </tr>\n",
       "    <tr>\n",
       "      <th>2</th>\n",
       "      <td>SVQ</td>\n",
       "      <td>aW9z</td>\n",
       "      <td>ZXM</td>\n",
       "      <td>NaN</td>\n",
       "      <td>True</td>\n",
       "      <td>LTA1OjAw</td>\n",
       "      <td>A</td>\n",
       "      <td>186.063223</td>\n",
       "      <td>650.402814</td>\n",
       "      <td>2.372309</td>\n",
       "      <td>...</td>\n",
       "      <td>249.778061</td>\n",
       "      <td>5.050894e+09</td>\n",
       "      <td>1.573227</td>\n",
       "      <td>700.112963</td>\n",
       "      <td>NaN</td>\n",
       "      <td>0.155331</td>\n",
       "      <td>1.327952</td>\n",
       "      <td>0.140478</td>\n",
       "      <td>49.276629</td>\n",
       "      <td>0.097967</td>\n",
       "    </tr>\n",
       "    <tr>\n",
       "      <th>3</th>\n",
       "      <td>R0I</td>\n",
       "      <td>YW5kc</td>\n",
       "      <td>ZXM</td>\n",
       "      <td>NaN</td>\n",
       "      <td>True</td>\n",
       "      <td>LTA0OjAw</td>\n",
       "      <td>A</td>\n",
       "      <td>144.562911</td>\n",
       "      <td>499.384425</td>\n",
       "      <td>0.010756</td>\n",
       "      <td>...</td>\n",
       "      <td>195.028589</td>\n",
       "      <td>2.703625e+09</td>\n",
       "      <td>0.843725</td>\n",
       "      <td>554.100930</td>\n",
       "      <td>NaN</td>\n",
       "      <td>0.108525</td>\n",
       "      <td>0.885378</td>\n",
       "      <td>0.152239</td>\n",
       "      <td>38.323737</td>\n",
       "      <td>0.071742</td>\n",
       "    </tr>\n",
       "    <tr>\n",
       "      <th>4</th>\n",
       "      <td>QlI</td>\n",
       "      <td>YW5kc</td>\n",
       "      <td>ZW4</td>\n",
       "      <td>YXBwb</td>\n",
       "      <td>True</td>\n",
       "      <td>NaN</td>\n",
       "      <td>A</td>\n",
       "      <td>77.314738</td>\n",
       "      <td>259.654122</td>\n",
       "      <td>26.709407</td>\n",
       "      <td>...</td>\n",
       "      <td>105.726136</td>\n",
       "      <td>-1.728980e-01</td>\n",
       "      <td>0.274720</td>\n",
       "      <td>313.339044</td>\n",
       "      <td>10.028185</td>\n",
       "      <td>0.054445</td>\n",
       "      <td>0.363698</td>\n",
       "      <td>1.058591</td>\n",
       "      <td>21.585558</td>\n",
       "      <td>0.037120</td>\n",
       "    </tr>\n",
       "    <tr>\n",
       "      <th>5</th>\n",
       "      <td>Vk4</td>\n",
       "      <td>aW9z</td>\n",
       "      <td>ZXM</td>\n",
       "      <td>NaN</td>\n",
       "      <td>True</td>\n",
       "      <td>LTA1OjAw</td>\n",
       "      <td>A</td>\n",
       "      <td>221.551160</td>\n",
       "      <td>780.850946</td>\n",
       "      <td>0.030926</td>\n",
       "      <td>...</td>\n",
       "      <td>296.477258</td>\n",
       "      <td>1.392711e+09</td>\n",
       "      <td>2.687900</td>\n",
       "      <td>824.741516</td>\n",
       "      <td>NaN</td>\n",
       "      <td>0.208281</td>\n",
       "      <td>1.797811</td>\n",
       "      <td>0.296636</td>\n",
       "      <td>58.993115</td>\n",
       "      <td>0.124234</td>\n",
       "    </tr>\n",
       "    <tr>\n",
       "      <th>...</th>\n",
       "      <td>...</td>\n",
       "      <td>...</td>\n",
       "      <td>...</td>\n",
       "      <td>...</td>\n",
       "      <td>...</td>\n",
       "      <td>...</td>\n",
       "      <td>...</td>\n",
       "      <td>...</td>\n",
       "      <td>...</td>\n",
       "      <td>...</td>\n",
       "      <td>...</td>\n",
       "      <td>...</td>\n",
       "      <td>...</td>\n",
       "      <td>...</td>\n",
       "      <td>...</td>\n",
       "      <td>...</td>\n",
       "      <td>...</td>\n",
       "      <td>...</td>\n",
       "      <td>...</td>\n",
       "      <td>...</td>\n",
       "      <td>...</td>\n",
       "    </tr>\n",
       "    <tr>\n",
       "      <th>49994</th>\n",
       "      <td>Vk4</td>\n",
       "      <td>aW9z</td>\n",
       "      <td>ZXM</td>\n",
       "      <td>NaN</td>\n",
       "      <td>True</td>\n",
       "      <td>KzAzOjAw</td>\n",
       "      <td>A</td>\n",
       "      <td>230.254507</td>\n",
       "      <td>812.997304</td>\n",
       "      <td>0.075865</td>\n",
       "      <td>...</td>\n",
       "      <td>307.919271</td>\n",
       "      <td>3.300792e+09</td>\n",
       "      <td>3.073821</td>\n",
       "      <td>855.318967</td>\n",
       "      <td>NaN</td>\n",
       "      <td>0.223661</td>\n",
       "      <td>1.927667</td>\n",
       "      <td>0.502870</td>\n",
       "      <td>61.419137</td>\n",
       "      <td>0.131299</td>\n",
       "    </tr>\n",
       "    <tr>\n",
       "      <th>49995</th>\n",
       "      <td>R0I</td>\n",
       "      <td>YW5kc</td>\n",
       "      <td>ZXM</td>\n",
       "      <td>NaN</td>\n",
       "      <td>True</td>\n",
       "      <td>LTA0OjAw</td>\n",
       "      <td>A</td>\n",
       "      <td>145.520371</td>\n",
       "      <td>502.846716</td>\n",
       "      <td>14.522330</td>\n",
       "      <td>...</td>\n",
       "      <td>196.294021</td>\n",
       "      <td>2.728730e+09</td>\n",
       "      <td>0.856128</td>\n",
       "      <td>557.479510</td>\n",
       "      <td>NaN</td>\n",
       "      <td>0.109462</td>\n",
       "      <td>0.894437</td>\n",
       "      <td>0.027793</td>\n",
       "      <td>38.571046</td>\n",
       "      <td>0.072299</td>\n",
       "    </tr>\n",
       "    <tr>\n",
       "      <th>49996</th>\n",
       "      <td>Q0E</td>\n",
       "      <td>aW9z</td>\n",
       "      <td>ZnI</td>\n",
       "      <td>aHVhd</td>\n",
       "      <td>True</td>\n",
       "      <td>KzAzOjAw</td>\n",
       "      <td>A</td>\n",
       "      <td>265.792743</td>\n",
       "      <td>944.802399</td>\n",
       "      <td>0.331361</td>\n",
       "      <td>...</td>\n",
       "      <td>354.613390</td>\n",
       "      <td>2.048980e+09</td>\n",
       "      <td>5.416289</td>\n",
       "      <td>980.270840</td>\n",
       "      <td>NaN</td>\n",
       "      <td>0.299305</td>\n",
       "      <td>2.524877</td>\n",
       "      <td>0.197182</td>\n",
       "      <td>71.471077</td>\n",
       "      <td>0.163053</td>\n",
       "    </tr>\n",
       "    <tr>\n",
       "      <th>49997</th>\n",
       "      <td>VVM</td>\n",
       "      <td>YW5kc</td>\n",
       "      <td>ZW4</td>\n",
       "      <td>c2Ftc</td>\n",
       "      <td>True</td>\n",
       "      <td>KzA1OjMw</td>\n",
       "      <td>A</td>\n",
       "      <td>17.169584</td>\n",
       "      <td>55.014058</td>\n",
       "      <td>317.300753</td>\n",
       "      <td>...</td>\n",
       "      <td>24.484764</td>\n",
       "      <td>-2.343420e-01</td>\n",
       "      <td>0.052445</td>\n",
       "      <td>80.387571</td>\n",
       "      <td>NaN</td>\n",
       "      <td>0.016381</td>\n",
       "      <td>0.058887</td>\n",
       "      <td>0.678615</td>\n",
       "      <td>7.015246</td>\n",
       "      <td>0.010946</td>\n",
       "    </tr>\n",
       "    <tr>\n",
       "      <th>49999</th>\n",
       "      <td>R0I</td>\n",
       "      <td>YW5kc</td>\n",
       "      <td>ZXM</td>\n",
       "      <td>NaN</td>\n",
       "      <td>True</td>\n",
       "      <td>LTA0OjAw</td>\n",
       "      <td>A</td>\n",
       "      <td>148.854774</td>\n",
       "      <td>514.913095</td>\n",
       "      <td>3.859013</td>\n",
       "      <td>...</td>\n",
       "      <td>200.699976</td>\n",
       "      <td>1.284567e+09</td>\n",
       "      <td>0.900638</td>\n",
       "      <td>569.240242</td>\n",
       "      <td>NaN</td>\n",
       "      <td>0.112773</td>\n",
       "      <td>0.926387</td>\n",
       "      <td>0.225178</td>\n",
       "      <td>39.434342</td>\n",
       "      <td>0.074257</td>\n",
       "    </tr>\n",
       "  </tbody>\n",
       "</table>\n",
       "<p>35280 rows × 21 columns</p>\n",
       "</div>"
      ],
      "text/plain": [
       "        c1     c2   c3     c4    c5        c6 variant          n1          n2  \\\n",
       "id                                                                              \n",
       "0      R0I  YW5kc  ZXM    NaN  True  LTA0OjAw       A  147.175163  508.833307   \n",
       "2      SVQ   aW9z  ZXM    NaN  True  LTA1OjAw       A  186.063223  650.402814   \n",
       "3      R0I  YW5kc  ZXM    NaN  True  LTA0OjAw       A  144.562911  499.384425   \n",
       "4      QlI  YW5kc  ZW4  YXBwb  True       NaN       A   77.314738  259.654122   \n",
       "5      Vk4   aW9z  ZXM    NaN  True  LTA1OjAw       A  221.551160  780.850946   \n",
       "...    ...    ...  ...    ...   ...       ...     ...         ...         ...   \n",
       "49994  Vk4   aW9z  ZXM    NaN  True  KzAzOjAw       A  230.254507  812.997304   \n",
       "49995  R0I  YW5kc  ZXM    NaN  True  LTA0OjAw       A  145.520371  502.846716   \n",
       "49996  Q0E   aW9z  ZnI  aHVhd  True  KzAzOjAw       A  265.792743  944.802399   \n",
       "49997  VVM  YW5kc  ZW4  c2Ftc  True  KzA1OjMw       A   17.169584   55.014058   \n",
       "49999  R0I  YW5kc  ZXM    NaN  True  LTA0OjAw       A  148.854774  514.913095   \n",
       "\n",
       "               n3  ...          n5            n6        n7          n8  \\\n",
       "id                 ...                                                   \n",
       "0        1.373772  ...  198.480790  1.513241e+09  0.877958  563.317119   \n",
       "2        2.372309  ...  249.778061  5.050894e+09  1.573227  700.112963   \n",
       "3        0.010756  ...  195.028589  2.703625e+09  0.843725  554.100930   \n",
       "4       26.709407  ...  105.726136 -1.728980e-01  0.274720  313.339044   \n",
       "5        0.030926  ...  296.477258  1.392711e+09  2.687900  824.741516   \n",
       "...           ...  ...         ...           ...       ...         ...   \n",
       "49994    0.075865  ...  307.919271  3.300792e+09  3.073821  855.318967   \n",
       "49995   14.522330  ...  196.294021  2.728730e+09  0.856128  557.479510   \n",
       "49996    0.331361  ...  354.613390  2.048980e+09  5.416289  980.270840   \n",
       "49997  317.300753  ...   24.484764 -2.343420e-01  0.052445   80.387571   \n",
       "49999    3.859013  ...  200.699976  1.284567e+09  0.900638  569.240242   \n",
       "\n",
       "              n9       n10       n11       n12        n13       n14  \n",
       "id                                                                   \n",
       "0      18.827356  0.111096  0.910215  0.270997  38.999087  0.073268  \n",
       "2            NaN  0.155331  1.327952  0.140478  49.276629  0.097967  \n",
       "3            NaN  0.108525  0.885378  0.152239  38.323737  0.071742  \n",
       "4      10.028185  0.054445  0.363698  1.058591  21.585558  0.037120  \n",
       "5            NaN  0.208281  1.797811  0.296636  58.993115  0.124234  \n",
       "...          ...       ...       ...       ...        ...       ...  \n",
       "49994        NaN  0.223661  1.927667  0.502870  61.419137  0.131299  \n",
       "49995        NaN  0.109462  0.894437  0.027793  38.571046  0.072299  \n",
       "49996        NaN  0.299305  2.524877  0.197182  71.471077  0.163053  \n",
       "49997        NaN  0.016381  0.058887  0.678615   7.015246  0.010946  \n",
       "49999        NaN  0.112773  0.926387  0.225178  39.434342  0.074257  \n",
       "\n",
       "[35280 rows x 21 columns]"
      ]
     },
     "execution_count": 38,
     "metadata": {},
     "output_type": "execute_result"
    }
   ],
   "source": [
    "df_no_out = df[df['n14'] < q_max]\n",
    "df_no_out[df_no_out['variant'] == \"A\"]"
   ]
  },
  {
   "cell_type": "markdown",
   "metadata": {},
   "source": [
    "### Receita"
   ]
  },
  {
   "cell_type": "markdown",
   "metadata": {},
   "source": [
    "## Data Preparation"
   ]
  },
  {
   "cell_type": "code",
   "execution_count": 164,
   "metadata": {},
   "outputs": [],
   "source": [
    "df_prep = df.copy()\n",
    "\n",
    "#Missing Data\n",
    "df_prep = df_prep.drop('n9', axis=1)\n"
   ]
  },
  {
   "cell_type": "code",
   "execution_count": 165,
   "metadata": {},
   "outputs": [],
   "source": [
    "# Outliers\n",
    "q_min_n13 = df_prep['n13'].quantile(0.05)\n",
    "q_max_n13 = df_prep['n13'].quantile(0.9)\n",
    "df_prep = df_prep[(df_prep['n13'] > q_min_n13) & (df_prep['n13'] < q_max_n13)]\n",
    "\n",
    "q_min_n14 = df_prep['n14'].quantile(0.05)\n",
    "q_max_n14 = df_prep['n14'].quantile(0.9)\n",
    "df_prep = df_prep[(df_prep['n14'] > q_min_n14) & (df_prep['n14'] < q_max_n14)]\n",
    "\n"
   ]
  },
  {
   "cell_type": "code",
   "execution_count": 167,
   "metadata": {},
   "outputs": [
    {
     "data": {
      "text/html": [
       "<div>\n",
       "<style scoped>\n",
       "    .dataframe tbody tr th:only-of-type {\n",
       "        vertical-align: middle;\n",
       "    }\n",
       "\n",
       "    .dataframe tbody tr th {\n",
       "        vertical-align: top;\n",
       "    }\n",
       "\n",
       "    .dataframe thead th {\n",
       "        text-align: right;\n",
       "    }\n",
       "</style>\n",
       "<table border=\"1\" class=\"dataframe\">\n",
       "  <thead>\n",
       "    <tr style=\"text-align: right;\">\n",
       "      <th></th>\n",
       "      <th>variant</th>\n",
       "      <th>n1</th>\n",
       "      <th>n2</th>\n",
       "      <th>n3</th>\n",
       "      <th>n4</th>\n",
       "      <th>n5</th>\n",
       "      <th>n6</th>\n",
       "      <th>n7</th>\n",
       "      <th>n8</th>\n",
       "      <th>n10</th>\n",
       "      <th>...</th>\n",
       "      <th>c5_True</th>\n",
       "      <th>c6_KzA1OjMw</th>\n",
       "      <th>c6_KzA3OjAw</th>\n",
       "      <th>c6_KzAyOjAw</th>\n",
       "      <th>c6_KzAzOjAw</th>\n",
       "      <th>c6_LTA0OjAw</th>\n",
       "      <th>c6_LTA1OjAw</th>\n",
       "      <th>c6_LTAzOjAw</th>\n",
       "      <th>c6_ZWdhbF9zdHJp</th>\n",
       "      <th>c6_nan</th>\n",
       "    </tr>\n",
       "  </thead>\n",
       "  <tbody>\n",
       "    <tr>\n",
       "      <th>0</th>\n",
       "      <td>A</td>\n",
       "      <td>0.352683</td>\n",
       "      <td>0.335621</td>\n",
       "      <td>0.000149</td>\n",
       "      <td>0.162243</td>\n",
       "      <td>0.357792</td>\n",
       "      <td>1.967416e-01</td>\n",
       "      <td>0.008880</td>\n",
       "      <td>0.371493</td>\n",
       "      <td>0.095212</td>\n",
       "      <td>...</td>\n",
       "      <td>1.0</td>\n",
       "      <td>0.0</td>\n",
       "      <td>0.0</td>\n",
       "      <td>0.0</td>\n",
       "      <td>0.0</td>\n",
       "      <td>1.0</td>\n",
       "      <td>0.0</td>\n",
       "      <td>0.0</td>\n",
       "      <td>0.0</td>\n",
       "      <td>0.0</td>\n",
       "    </tr>\n",
       "    <tr>\n",
       "      <th>1</th>\n",
       "      <td>B</td>\n",
       "      <td>0.692789</td>\n",
       "      <td>0.681253</td>\n",
       "      <td>0.001501</td>\n",
       "      <td>0.339436</td>\n",
       "      <td>0.695395</td>\n",
       "      <td>9.141121e-02</td>\n",
       "      <td>0.080930</td>\n",
       "      <td>0.702864</td>\n",
       "      <td>0.311238</td>\n",
       "      <td>...</td>\n",
       "      <td>1.0</td>\n",
       "      <td>0.0</td>\n",
       "      <td>0.0</td>\n",
       "      <td>0.0</td>\n",
       "      <td>1.0</td>\n",
       "      <td>0.0</td>\n",
       "      <td>0.0</td>\n",
       "      <td>0.0</td>\n",
       "      <td>0.0</td>\n",
       "      <td>0.0</td>\n",
       "    </tr>\n",
       "    <tr>\n",
       "      <th>2</th>\n",
       "      <td>A</td>\n",
       "      <td>0.446362</td>\n",
       "      <td>0.429706</td>\n",
       "      <td>0.000257</td>\n",
       "      <td>0.159512</td>\n",
       "      <td>0.451015</td>\n",
       "      <td>6.566838e-01</td>\n",
       "      <td>0.015998</td>\n",
       "      <td>0.462820</td>\n",
       "      <td>0.133458</td>\n",
       "      <td>...</td>\n",
       "      <td>1.0</td>\n",
       "      <td>0.0</td>\n",
       "      <td>0.0</td>\n",
       "      <td>0.0</td>\n",
       "      <td>0.0</td>\n",
       "      <td>0.0</td>\n",
       "      <td>1.0</td>\n",
       "      <td>0.0</td>\n",
       "      <td>0.0</td>\n",
       "      <td>0.0</td>\n",
       "    </tr>\n",
       "    <tr>\n",
       "      <th>3</th>\n",
       "      <td>A</td>\n",
       "      <td>0.346390</td>\n",
       "      <td>0.329341</td>\n",
       "      <td>0.000001</td>\n",
       "      <td>0.441414</td>\n",
       "      <td>0.351519</td>\n",
       "      <td>3.515075e-01</td>\n",
       "      <td>0.008530</td>\n",
       "      <td>0.365341</td>\n",
       "      <td>0.092989</td>\n",
       "      <td>...</td>\n",
       "      <td>1.0</td>\n",
       "      <td>0.0</td>\n",
       "      <td>0.0</td>\n",
       "      <td>0.0</td>\n",
       "      <td>0.0</td>\n",
       "      <td>1.0</td>\n",
       "      <td>0.0</td>\n",
       "      <td>0.0</td>\n",
       "      <td>0.0</td>\n",
       "      <td>0.0</td>\n",
       "    </tr>\n",
       "    <tr>\n",
       "      <th>4</th>\n",
       "      <td>A</td>\n",
       "      <td>0.184393</td>\n",
       "      <td>0.170019</td>\n",
       "      <td>0.002896</td>\n",
       "      <td>0.873220</td>\n",
       "      <td>0.189229</td>\n",
       "      <td>6.653864e-11</td>\n",
       "      <td>0.002704</td>\n",
       "      <td>0.204605</td>\n",
       "      <td>0.046231</td>\n",
       "      <td>...</td>\n",
       "      <td>1.0</td>\n",
       "      <td>0.0</td>\n",
       "      <td>0.0</td>\n",
       "      <td>0.0</td>\n",
       "      <td>0.0</td>\n",
       "      <td>0.0</td>\n",
       "      <td>0.0</td>\n",
       "      <td>0.0</td>\n",
       "      <td>0.0</td>\n",
       "      <td>1.0</td>\n",
       "    </tr>\n",
       "  </tbody>\n",
       "</table>\n",
       "<p>5 rows × 64 columns</p>\n",
       "</div>"
      ],
      "text/plain": [
       "  variant        n1        n2        n3        n4        n5            n6  \\\n",
       "0       A  0.352683  0.335621  0.000149  0.162243  0.357792  1.967416e-01   \n",
       "1       B  0.692789  0.681253  0.001501  0.339436  0.695395  9.141121e-02   \n",
       "2       A  0.446362  0.429706  0.000257  0.159512  0.451015  6.566838e-01   \n",
       "3       A  0.346390  0.329341  0.000001  0.441414  0.351519  3.515075e-01   \n",
       "4       A  0.184393  0.170019  0.002896  0.873220  0.189229  6.653864e-11   \n",
       "\n",
       "         n7        n8       n10  ...  c5_True  c6_KzA1OjMw  c6_KzA3OjAw  \\\n",
       "0  0.008880  0.371493  0.095212  ...      1.0          0.0          0.0   \n",
       "1  0.080930  0.702864  0.311238  ...      1.0          0.0          0.0   \n",
       "2  0.015998  0.462820  0.133458  ...      1.0          0.0          0.0   \n",
       "3  0.008530  0.365341  0.092989  ...      1.0          0.0          0.0   \n",
       "4  0.002704  0.204605  0.046231  ...      1.0          0.0          0.0   \n",
       "\n",
       "   c6_KzAyOjAw  c6_KzAzOjAw  c6_LTA0OjAw  c6_LTA1OjAw  c6_LTAzOjAw  \\\n",
       "0          0.0          0.0          1.0          0.0          0.0   \n",
       "1          0.0          1.0          0.0          0.0          0.0   \n",
       "2          0.0          0.0          0.0          1.0          0.0   \n",
       "3          0.0          0.0          1.0          0.0          0.0   \n",
       "4          0.0          0.0          0.0          0.0          0.0   \n",
       "\n",
       "   c6_ZWdhbF9zdHJp  c6_nan  \n",
       "0              0.0     0.0  \n",
       "1              0.0     0.0  \n",
       "2              0.0     0.0  \n",
       "3              0.0     0.0  \n",
       "4              0.0     1.0  \n",
       "\n",
       "[5 rows x 64 columns]"
      ]
     },
     "execution_count": 167,
     "metadata": {},
     "output_type": "execute_result"
    }
   ],
   "source": [
    "#One Hot Encoding\n",
    "enc = OneHotEncoder(sparse_output=False, handle_unknown='ignore')\n",
    "enc.fit(df_prep[['c1', 'c2', 'c3', 'c4', 'c5', 'c6']])\n",
    "\n",
    "categorical_columns = df_prep[['c1', 'c2', 'c3', 'c4', 'c5', 'c6']]\n",
    "categorical_columns = enc.transform(categorical_columns)\n",
    "categorical_columns = pd.DataFrame(categorical_columns, columns=enc.get_feature_names_out())\n",
    "df_prep = pd.concat([df_prep, categorical_columns], axis=1)\n",
    "df_prep = df_prep.drop(['c1', 'c2', 'c3', 'c4', 'c5', 'c6'], axis=1)\n",
    "\n",
    "normalizer = {}\n",
    "#Normalização\n",
    "for col in ['n1', 'n2', 'n3', 'n4', 'n5', 'n6', 'n7', 'n8','n10', 'n11', 'n12', 'n13', 'n14']:\n",
    "    normalizer[col] = {'min': df_prep[col].min(), 'max': df_prep[col].max(), 'mean' : df_prep[col].mean()}\n",
    "    df_prep[col] = (df_prep[col] - df_prep[col].min()) / (df_prep[col].max() - df_prep[col].min())\n",
    "\n",
    "df_prep = df_prep.dropna(axis=0)\n",
    "df_prep.head(5)"
   ]
  },
  {
   "cell_type": "code",
   "execution_count": 168,
   "metadata": {},
   "outputs": [],
   "source": [
    "X = df_prep.drop(['n13', 'n14'], axis=1)\n",
    "X.loc[:,'variant'] = X['variant'].map({'A': 0, 'B': 1})\n",
    "X = X.values.astype('float32')\n",
    "y = df_prep[['n13', 'n14']].values.astype('float32')\n",
    "\n",
    "X_train, X_test, y_train, y_test = model_selection.train_test_split(X, y, test_size=0.2, random_state=42)"
   ]
  },
  {
   "cell_type": "markdown",
   "metadata": {},
   "source": [
    "### Salvando as informações sobre os dados e encoder"
   ]
  },
  {
   "cell_type": "code",
   "execution_count": 169,
   "metadata": {},
   "outputs": [],
   "source": [
    "with open('utils/encoder.pkl', 'wb') as f:\n",
    "    pickle.dump(enc, f)\n",
    "\n",
    "with open('utils/columns.pkl', 'wb') as f:\n",
    "    pickle.dump(['c1', 'c2', 'c3', 'c4', 'c5', 'c6',\n",
    "                 'n1', 'n2', 'n3', 'n4', 'n5', 'n6', 'n7', 'n8', 'n9','n10', 'n11', 'n12'], f)\n",
    "\n",
    "with open('utils/normalizer.pkl', 'wb') as f:\n",
    "    pickle.dump(normalizer, f)"
   ]
  },
  {
   "cell_type": "markdown",
   "metadata": {},
   "source": [
    "## Modelo de Predição de Receita + Engajamento"
   ]
  },
  {
   "cell_type": "code",
   "execution_count": 170,
   "metadata": {},
   "outputs": [],
   "source": [
    "input_shape = (X_train.shape[1],)\n",
    "reg_tuner = keras_tuner.tuners.BayesianOptimization(\n",
    "    hypermodel=models.m_build_model_regression(input_shape),\n",
    "    objective = [keras_tuner.Objective(\"val_msle\", \"min\")],\n",
    "    max_trials = 2,\n",
    "    seed = 42,\n",
    "    directory = 'reg_tuner',\n",
    "    project_name = 'hotmart_ml_test',\n",
    "    overwrite = True)"
   ]
  },
  {
   "cell_type": "code",
   "execution_count": 171,
   "metadata": {},
   "outputs": [
    {
     "name": "stdout",
     "output_type": "stream",
     "text": [
      "Trial 2 Complete [00h 00m 16s]\n",
      "multi_objective: 0.0011337717296555638\n",
      "\n",
      "Best multi_objective So Far: 0.0011337717296555638\n",
      "Total elapsed time: 00h 00m 30s\n"
     ]
    }
   ],
   "source": [
    "reg_tuner.search(X_train, y_train,\n",
    "                epochs=5, \n",
    "                validation_split=0.2)"
   ]
  },
  {
   "cell_type": "code",
   "execution_count": 136,
   "metadata": {},
   "outputs": [
    {
     "name": "stdout",
     "output_type": "stream",
     "text": [
      "WARNING:tensorflow:Detecting that an object or model or tf.train.Checkpoint is being deleted with unrestored values. See the following logs for the specific values in question. To silence these warnings, use `status.expect_partial()`. See https://www.tensorflow.org/api_docs/python/tf/train/Checkpoint#restorefor details about the status object returned by the restore function.\n",
      "WARNING:tensorflow:Value in checkpoint could not be found in the restored object: (root).optimizer._variables.1\n",
      "WARNING:tensorflow:Value in checkpoint could not be found in the restored object: (root).optimizer._variables.2\n",
      "WARNING:tensorflow:Value in checkpoint could not be found in the restored object: (root).optimizer._variables.3\n",
      "WARNING:tensorflow:Value in checkpoint could not be found in the restored object: (root).optimizer._variables.4\n",
      "WARNING:tensorflow:Value in checkpoint could not be found in the restored object: (root).optimizer._variables.5\n",
      "WARNING:tensorflow:Value in checkpoint could not be found in the restored object: (root).optimizer._variables.6\n",
      "Model: \"sequential\"\n",
      "_________________________________________________________________\n",
      " Layer (type)                Output Shape              Param #   \n",
      "=================================================================\n",
      " dense (Dense)               (None, 64)                4032      \n",
      "                                                                 \n",
      " dense_1 (Dense)             (None, 32)                2080      \n",
      "                                                                 \n",
      " dropout (Dropout)           (None, 32)                0         \n",
      "                                                                 \n",
      " dense_2 (Dense)             (None, 2)                 66        \n",
      "                                                                 \n",
      "=================================================================\n",
      "Total params: 6178 (24.13 KB)\n",
      "Trainable params: 6178 (24.13 KB)\n",
      "Non-trainable params: 0 (0.00 Byte)\n",
      "_________________________________________________________________\n"
     ]
    }
   ],
   "source": [
    "best_model_keras = reg_tuner.get_best_models(num_models=1)[0]\n",
    "best_model_keras.summary()"
   ]
  },
  {
   "cell_type": "code",
   "execution_count": 137,
   "metadata": {},
   "outputs": [],
   "source": [
    "sklearn_tuner_reg = keras_tuner.tuners.SklearnTuner(\n",
    "    oracle = keras_tuner.oracles.BayesianOptimizationOracle(\n",
    "        objective = keras_tuner.Objective(\"score\", \"max\"),\n",
    "        max_trials = 3,\n",
    "        seed = 42),\n",
    "    hypermodel = models.build_model_sklearn_regression,\n",
    "    scoring = metrics.make_scorer(metrics.mean_squared_error, greater_is_better=False),\n",
    "    cv = model_selection.KFold(n_splits=5),\n",
    "    directory = 'sklearn_tuner_reg',\n",
    "    project_name = 'hotmart_ml_test',\n",
    "    overwrite = True)\n"
   ]
  },
  {
   "cell_type": "code",
   "execution_count": 138,
   "metadata": {},
   "outputs": [
    {
     "name": "stdout",
     "output_type": "stream",
     "text": [
      "Trial 3 Complete [00h 00m 11s]\n",
      "score: -0.0008657378778863129\n",
      "\n",
      "Best score So Far: -3.657784418464871e-06\n",
      "Total elapsed time: 00h 00m 14s\n"
     ]
    }
   ],
   "source": [
    "sklearn_tuner_reg.search(X_train, y_train)"
   ]
  },
  {
   "cell_type": "code",
   "execution_count": 139,
   "metadata": {},
   "outputs": [
    {
     "name": "stdout",
     "output_type": "stream",
     "text": [
      "Melhor modelo Sklearn: MultiOutputRegressor(estimator=Ridge(alpha=1))\n"
     ]
    }
   ],
   "source": [
    "best_model_sklearn = sklearn_tuner_reg.get_best_models(num_models=1)[0]\n",
    "print(f\"Melhor modelo Sklearn: {best_model_sklearn}\")\n"
   ]
  },
  {
   "cell_type": "code",
   "execution_count": 140,
   "metadata": {},
   "outputs": [
    {
     "name": "stdout",
     "output_type": "stream",
     "text": [
      "\u001b[31mMelhor modelo escolhido como Sklearn\u001b[0m\n"
     ]
    }
   ],
   "source": [
    "if reg_tuner.oracle.get_best_trials()[0].score < sklearn_tuner_reg.oracle.get_best_trials()[0].score:\n",
    "    print(colored(f\"Melhor modelo escolhido como Keras\", 'red'))\n",
    "    best_model = best_model_keras\n",
    "    model_src = 'keras'\n",
    "else:\n",
    "    print(colored(f\"Melhor modelo escolhido como Sklearn\", 'red'))\n",
    "    best_model = best_model_sklearn\n",
    "    model_src = 'sklearn'\n",
    "\n",
    "with open(f'utils/best_model.pkl', 'wb') as f:\n",
    "    pickle.dump(best_model, f)"
   ]
  },
  {
   "cell_type": "markdown",
   "metadata": {},
   "source": [
    "## Escolhendo uma variante para o usuário"
   ]
  },
  {
   "cell_type": "code",
   "execution_count": 172,
   "metadata": {},
   "outputs": [],
   "source": [
    "## Simulando um request\n",
    "possible_user_data = df_no_out.copy()\n",
    "possible_user_data = possible_user_data.drop(['n13', 'n14', 'variant'], axis=1)\n",
    "\n",
    "user_data_sent = possible_user_data.loc[0,:].values"
   ]
  },
  {
   "cell_type": "markdown",
   "metadata": {},
   "source": [
    "Primeiramente recebemos do usuário as variáveis de `n1` a `n12` e `c1` a `c6` e com isso iremos prever a variável `n14` e `n13` para cada variante do teste, após isso iremos escolher a variante que maximiza a receita e o engajamento do usuário"
   ]
  },
  {
   "cell_type": "code",
   "execution_count": 173,
   "metadata": {},
   "outputs": [],
   "source": [
    "\n",
    "encoder = pickle.load(open('utils/encoder.pkl', 'rb'))\n",
    "model = pickle.load(open('utils/best_model.pkl', 'rb'))\n",
    "columns = pickle.load(open('utils/columns.pkl', 'rb'))\n",
    "normalizer = pickle.load(open('utils/normalizer.pkl', 'rb'))\n",
    "\n",
    "def normalize(col, x):\n",
    "    return (x - normalizer[col]['min']) / (normalizer[col]['max'] - normalizer[col]['min'])\n",
    "\n",
    "def prepare_user_data(user_data_recieved):\n",
    "\n",
    "    user_data = pd.DataFrame(user_data_recieved.reshape(1, -1), columns=columns)\n",
    "    user_data = user_data.drop(['n9'], axis=1)\n",
    "\n",
    "    user_data_categorical = user_data[['c1', 'c2', 'c3', 'c4', 'c5', 'c6']]\n",
    "    user_data_categorical = encoder.transform(user_data_categorical)\n",
    "    user_data_categorical = pd.DataFrame(user_data_categorical, columns=encoder.get_feature_names_out())\n",
    "\n",
    "    user_data = user_data.drop(['c1', 'c2', 'c3', 'c4', 'c5', 'c6'], axis=1)\n",
    "    user_data = pd.concat([user_data, user_data_categorical], axis=1)\n",
    "\n",
    "    for col in ['n1', 'n2', 'n3', 'n4', 'n5', 'n6', 'n7', 'n8','n10', 'n11', 'n12']:\n",
    "        user_data[col] = normalize(col, user_data[col])\n",
    "\n",
    "    user_data.loc[1,:] = user_data.loc[0,:]\n",
    "\n",
    "    user_data.loc[0,'variant'] = 0\n",
    "    user_data.loc[1,'variant'] = 1\n",
    "\n",
    "    return user_data.values.astype('float32')\n",
    "\n",
    "\n",
    "def normalize_result(x, pesos):\n",
    "    return ((x * [normalizer['n13']['max'], normalizer['n14']['max']]) / [normalizer['n13']['mean'], normalizer['n14']['mean']]) * pesos\n",
    "\n",
    "def predict(user_data, pesos):\n",
    "    user_data = prepare_user_data(user_data)\n",
    "    result = model.predict(user_data)\n",
    "    \n",
    "    if normalize_result(result[0], pesos).sum() > normalize_result(result[1], pesos).sum():\n",
    "        return 'A'\n",
    "    else:\n",
    "        return 'B'"
   ]
  },
  {
   "cell_type": "code",
   "execution_count": 174,
   "metadata": {},
   "outputs": [
    {
     "data": {
      "text/plain": [
       "B    200\n",
       "Name: count, dtype: int64"
      ]
     },
     "execution_count": 174,
     "metadata": {},
     "output_type": "execute_result"
    }
   ],
   "source": [
    "possible_user_data.head(100).apply(lambda x : predict(x.values), axis=1).value_counts()"
   ]
  },
  {
   "cell_type": "code",
   "execution_count": 147,
   "metadata": {},
   "outputs": [],
   "source": [
    "user_data = prepare_user_data(user_data_sent)\n",
    "result = model.predict(user_data)"
   ]
  },
  {
   "cell_type": "code",
   "execution_count": 180,
   "metadata": {},
   "outputs": [
    {
     "data": {
      "text/plain": [
       "[(1, 1), (2, 2), (3, 3), (4, 4), (5, 5), (6, 6), (7, 7), (8, 8), (9, 9)]"
      ]
     },
     "execution_count": 180,
     "metadata": {},
     "output_type": "execute_result"
    }
   ],
   "source": []
  },
  {
   "cell_type": "code",
   "execution_count": 151,
   "metadata": {},
   "outputs": [
    {
     "data": {
      "text/plain": [
       "{'min': 0.00236, 'max': 0.367573, 'mean': 0.0792721160415225}"
      ]
     },
     "execution_count": 151,
     "metadata": {},
     "output_type": "execute_result"
    }
   ],
   "source": [
    "normalizer['n14']"
   ]
  },
  {
   "cell_type": "code",
   "execution_count": 178,
   "metadata": {},
   "outputs": [
    {
     "data": {
      "text/plain": [
       "<zip at 0x7ff807737f40>"
      ]
     },
     "execution_count": 178,
     "metadata": {},
     "output_type": "execute_result"
    }
   ],
   "source": [
    "zip(range(1,10), range(1,10))"
   ]
  },
  {
   "cell_type": "code",
   "execution_count": null,
   "metadata": {},
   "outputs": [],
   "source": []
  }
 ],
 "metadata": {
  "kernelspec": {
   "display_name": "Python 3",
   "language": "python",
   "name": "python3"
  },
  "language_info": {
   "codemirror_mode": {
    "name": "ipython",
    "version": 3
   },
   "file_extension": ".py",
   "mimetype": "text/x-python",
   "name": "python",
   "nbconvert_exporter": "python",
   "pygments_lexer": "ipython3",
   "version": "3.8.10"
  }
 },
 "nbformat": 4,
 "nbformat_minor": 2
}
