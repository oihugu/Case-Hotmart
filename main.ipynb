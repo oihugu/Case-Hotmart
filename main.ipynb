{
 "cells": [
  {
   "cell_type": "code",
   "execution_count": 96,
   "metadata": {},
   "outputs": [],
   "source": [
    "import pandas as pd\n",
    "import seaborn as sns\n",
    "import matplotlib.pyplot as plt"
   ]
  },
  {
   "cell_type": "markdown",
   "metadata": {},
   "source": [
    "### Loading the data"
   ]
  },
  {
   "cell_type": "code",
   "execution_count": 81,
   "metadata": {},
   "outputs": [
    {
     "data": {
      "text/html": [
       "<div>\n",
       "<style scoped>\n",
       "    .dataframe tbody tr th:only-of-type {\n",
       "        vertical-align: middle;\n",
       "    }\n",
       "\n",
       "    .dataframe tbody tr th {\n",
       "        vertical-align: top;\n",
       "    }\n",
       "\n",
       "    .dataframe thead th {\n",
       "        text-align: right;\n",
       "    }\n",
       "</style>\n",
       "<table border=\"1\" class=\"dataframe\">\n",
       "  <thead>\n",
       "    <tr style=\"text-align: right;\">\n",
       "      <th></th>\n",
       "      <th>c1</th>\n",
       "      <th>c2</th>\n",
       "      <th>c3</th>\n",
       "      <th>c4</th>\n",
       "      <th>c5</th>\n",
       "      <th>c6</th>\n",
       "      <th>variant</th>\n",
       "      <th>n1</th>\n",
       "      <th>n2</th>\n",
       "      <th>n3</th>\n",
       "      <th>...</th>\n",
       "      <th>n5</th>\n",
       "      <th>n6</th>\n",
       "      <th>n7</th>\n",
       "      <th>n8</th>\n",
       "      <th>n9</th>\n",
       "      <th>n10</th>\n",
       "      <th>n11</th>\n",
       "      <th>n12</th>\n",
       "      <th>n13</th>\n",
       "      <th>n14</th>\n",
       "    </tr>\n",
       "    <tr>\n",
       "      <th>id</th>\n",
       "      <th></th>\n",
       "      <th></th>\n",
       "      <th></th>\n",
       "      <th></th>\n",
       "      <th></th>\n",
       "      <th></th>\n",
       "      <th></th>\n",
       "      <th></th>\n",
       "      <th></th>\n",
       "      <th></th>\n",
       "      <th></th>\n",
       "      <th></th>\n",
       "      <th></th>\n",
       "      <th></th>\n",
       "      <th></th>\n",
       "      <th></th>\n",
       "      <th></th>\n",
       "      <th></th>\n",
       "      <th></th>\n",
       "      <th></th>\n",
       "      <th></th>\n",
       "    </tr>\n",
       "  </thead>\n",
       "  <tbody>\n",
       "    <tr>\n",
       "      <th>0</th>\n",
       "      <td>R0I</td>\n",
       "      <td>YW5kc</td>\n",
       "      <td>ZXM</td>\n",
       "      <td>NaN</td>\n",
       "      <td>True</td>\n",
       "      <td>LTA0OjAw</td>\n",
       "      <td>A</td>\n",
       "      <td>147.175163</td>\n",
       "      <td>508.833307</td>\n",
       "      <td>1.373772</td>\n",
       "      <td>...</td>\n",
       "      <td>198.480790</td>\n",
       "      <td>1.513241e+09</td>\n",
       "      <td>0.877958</td>\n",
       "      <td>563.317119</td>\n",
       "      <td>18.827356</td>\n",
       "      <td>0.111096</td>\n",
       "      <td>0.910215</td>\n",
       "      <td>0.270997</td>\n",
       "      <td>38.999087</td>\n",
       "      <td>0.073268</td>\n",
       "    </tr>\n",
       "    <tr>\n",
       "      <th>1</th>\n",
       "      <td>QVI</td>\n",
       "      <td>aW9z</td>\n",
       "      <td>cHQ</td>\n",
       "      <td>aHVhd</td>\n",
       "      <td>True</td>\n",
       "      <td>KzAzOjAw</td>\n",
       "      <td>B</td>\n",
       "      <td>288.359771</td>\n",
       "      <td>1028.901212</td>\n",
       "      <td>13.839420</td>\n",
       "      <td>...</td>\n",
       "      <td>384.252343</td>\n",
       "      <td>7.030908e+08</td>\n",
       "      <td>7.915538</td>\n",
       "      <td>1059.667759</td>\n",
       "      <td>NaN</td>\n",
       "      <td>0.360950</td>\n",
       "      <td>2.965243</td>\n",
       "      <td>0.349473</td>\n",
       "      <td>77.952363</td>\n",
       "      <td>0.185909</td>\n",
       "    </tr>\n",
       "    <tr>\n",
       "      <th>2</th>\n",
       "      <td>SVQ</td>\n",
       "      <td>aW9z</td>\n",
       "      <td>ZXM</td>\n",
       "      <td>NaN</td>\n",
       "      <td>True</td>\n",
       "      <td>LTA1OjAw</td>\n",
       "      <td>A</td>\n",
       "      <td>186.063223</td>\n",
       "      <td>650.402814</td>\n",
       "      <td>2.372309</td>\n",
       "      <td>...</td>\n",
       "      <td>249.778061</td>\n",
       "      <td>5.050894e+09</td>\n",
       "      <td>1.573227</td>\n",
       "      <td>700.112963</td>\n",
       "      <td>NaN</td>\n",
       "      <td>0.155331</td>\n",
       "      <td>1.327952</td>\n",
       "      <td>0.140478</td>\n",
       "      <td>49.276629</td>\n",
       "      <td>0.097967</td>\n",
       "    </tr>\n",
       "    <tr>\n",
       "      <th>3</th>\n",
       "      <td>R0I</td>\n",
       "      <td>YW5kc</td>\n",
       "      <td>ZXM</td>\n",
       "      <td>NaN</td>\n",
       "      <td>True</td>\n",
       "      <td>LTA0OjAw</td>\n",
       "      <td>A</td>\n",
       "      <td>144.562911</td>\n",
       "      <td>499.384425</td>\n",
       "      <td>0.010756</td>\n",
       "      <td>...</td>\n",
       "      <td>195.028589</td>\n",
       "      <td>2.703625e+09</td>\n",
       "      <td>0.843725</td>\n",
       "      <td>554.100930</td>\n",
       "      <td>NaN</td>\n",
       "      <td>0.108525</td>\n",
       "      <td>0.885378</td>\n",
       "      <td>0.152239</td>\n",
       "      <td>38.323737</td>\n",
       "      <td>0.071742</td>\n",
       "    </tr>\n",
       "    <tr>\n",
       "      <th>4</th>\n",
       "      <td>QlI</td>\n",
       "      <td>YW5kc</td>\n",
       "      <td>ZW4</td>\n",
       "      <td>YXBwb</td>\n",
       "      <td>True</td>\n",
       "      <td>NaN</td>\n",
       "      <td>A</td>\n",
       "      <td>77.314738</td>\n",
       "      <td>259.654122</td>\n",
       "      <td>26.709407</td>\n",
       "      <td>...</td>\n",
       "      <td>105.726136</td>\n",
       "      <td>-1.728980e-01</td>\n",
       "      <td>0.274720</td>\n",
       "      <td>313.339044</td>\n",
       "      <td>10.028185</td>\n",
       "      <td>0.054445</td>\n",
       "      <td>0.363698</td>\n",
       "      <td>1.058591</td>\n",
       "      <td>21.585558</td>\n",
       "      <td>0.037120</td>\n",
       "    </tr>\n",
       "  </tbody>\n",
       "</table>\n",
       "<p>5 rows × 21 columns</p>\n",
       "</div>"
      ],
      "text/plain": [
       "     c1     c2   c3     c4    c5        c6 variant          n1           n2  \\\n",
       "id                                                                            \n",
       "0   R0I  YW5kc  ZXM    NaN  True  LTA0OjAw       A  147.175163   508.833307   \n",
       "1   QVI   aW9z  cHQ  aHVhd  True  KzAzOjAw       B  288.359771  1028.901212   \n",
       "2   SVQ   aW9z  ZXM    NaN  True  LTA1OjAw       A  186.063223   650.402814   \n",
       "3   R0I  YW5kc  ZXM    NaN  True  LTA0OjAw       A  144.562911   499.384425   \n",
       "4   QlI  YW5kc  ZW4  YXBwb  True       NaN       A   77.314738   259.654122   \n",
       "\n",
       "           n3  ...          n5            n6        n7           n8  \\\n",
       "id             ...                                                    \n",
       "0    1.373772  ...  198.480790  1.513241e+09  0.877958   563.317119   \n",
       "1   13.839420  ...  384.252343  7.030908e+08  7.915538  1059.667759   \n",
       "2    2.372309  ...  249.778061  5.050894e+09  1.573227   700.112963   \n",
       "3    0.010756  ...  195.028589  2.703625e+09  0.843725   554.100930   \n",
       "4   26.709407  ...  105.726136 -1.728980e-01  0.274720   313.339044   \n",
       "\n",
       "           n9       n10       n11       n12        n13       n14  \n",
       "id                                                                \n",
       "0   18.827356  0.111096  0.910215  0.270997  38.999087  0.073268  \n",
       "1         NaN  0.360950  2.965243  0.349473  77.952363  0.185909  \n",
       "2         NaN  0.155331  1.327952  0.140478  49.276629  0.097967  \n",
       "3         NaN  0.108525  0.885378  0.152239  38.323737  0.071742  \n",
       "4   10.028185  0.054445  0.363698  1.058591  21.585558  0.037120  \n",
       "\n",
       "[5 rows x 21 columns]"
      ]
     },
     "execution_count": 81,
     "metadata": {},
     "output_type": "execute_result"
    }
   ],
   "source": [
    "df = pd.read_csv('data/hotmart_ml_test.csv', sep=',', encoding='utf-8')\n",
    "df = df.set_index('id', drop=True)\n",
    "df.head(5)"
   ]
  },
  {
   "cell_type": "markdown",
   "metadata": {},
   "source": [
    "### Verify missing values"
   ]
  },
  {
   "cell_type": "code",
   "execution_count": 82,
   "metadata": {},
   "outputs": [
    {
     "data": {
      "text/plain": [
       "c1          9.892\n",
       "c2         10.114\n",
       "c3          0.000\n",
       "c4         15.110\n",
       "c5          0.000\n",
       "c6         10.174\n",
       "variant     0.000\n",
       "n1          0.000\n",
       "n2          0.000\n",
       "n3          0.000\n",
       "n4          0.000\n",
       "n5          0.000\n",
       "n6          0.000\n",
       "n7          0.000\n",
       "n8          0.000\n",
       "n9         95.486\n",
       "n10         0.000\n",
       "n11         0.000\n",
       "n12         0.000\n",
       "n13         0.000\n",
       "n14         0.000\n",
       "dtype: float64"
      ]
     },
     "execution_count": 82,
     "metadata": {},
     "output_type": "execute_result"
    }
   ],
   "source": [
    "df.isnull().sum() / df.shape[0] * 100"
   ]
  },
  {
   "cell_type": "markdown",
   "metadata": {},
   "source": [
    "- Podemos ver claramente que temos alguns valores faltantes nas variáveis que são categóricas do usuário\n",
    "- Além disso temos a variável `n9` que representa uma feature numérica coletada antes do experimento que também possui valores faltantes\n",
    "- Vamos verificar se a variavel `n9` é dependente do tipo de experimento que foi feito (como é algo obtido anteriormente não deveria acontecer)"
   ]
  },
  {
   "cell_type": "code",
   "execution_count": 83,
   "metadata": {},
   "outputs": [
    {
     "name": "stdout",
     "output_type": "stream",
     "text": [
      "Vartiant A - n9 missing: 95.45\n",
      "Vartiant B - n9 missing: 95.58\n"
     ]
    }
   ],
   "source": [
    "print(f\"Vartiant A - n9 missing: {(df[df['variant'] == 'A']['n9'].isnull().sum() / df[df['variant'] == 'A'].shape[0] * 100):.2f}\")\n",
    "print(f\"Vartiant B - n9 missing: {(df[df['variant'] == 'B']['n9'].isnull().sum() / df[df['variant'] == 'B'].shape[0] * 100):.2f}\")"
   ]
  },
  {
   "cell_type": "markdown",
   "metadata": {},
   "source": [
    "- Não conseguimos encontrar uma relação entre a variável `n9` e o tipo de experimento como esperado, podemos prosseguir com a análise\n",
    "- Como temos uma grande porcentagem de valores faltantes e `n9` é uma variável numérica, vamos verificar se ela é significativa para o modelo"
   ]
  },
  {
   "cell_type": "code",
   "execution_count": 84,
   "metadata": {},
   "outputs": [
    {
     "data": {
      "text/html": [
       "<div>\n",
       "<style scoped>\n",
       "    .dataframe tbody tr th:only-of-type {\n",
       "        vertical-align: middle;\n",
       "    }\n",
       "\n",
       "    .dataframe tbody tr th {\n",
       "        vertical-align: top;\n",
       "    }\n",
       "\n",
       "    .dataframe thead th {\n",
       "        text-align: right;\n",
       "    }\n",
       "</style>\n",
       "<table border=\"1\" class=\"dataframe\">\n",
       "  <thead>\n",
       "    <tr style=\"text-align: right;\">\n",
       "      <th></th>\n",
       "      <th>n9</th>\n",
       "      <th>n14</th>\n",
       "    </tr>\n",
       "  </thead>\n",
       "  <tbody>\n",
       "    <tr>\n",
       "      <th>n9</th>\n",
       "      <td>1.000000</td>\n",
       "      <td>0.100089</td>\n",
       "    </tr>\n",
       "    <tr>\n",
       "      <th>n14</th>\n",
       "      <td>0.100089</td>\n",
       "      <td>1.000000</td>\n",
       "    </tr>\n",
       "  </tbody>\n",
       "</table>\n",
       "</div>"
      ],
      "text/plain": [
       "           n9       n14\n",
       "n9   1.000000  0.100089\n",
       "n14  0.100089  1.000000"
      ]
     },
     "execution_count": 84,
     "metadata": {},
     "output_type": "execute_result"
    }
   ],
   "source": [
    "df[['n9', 'n14']].dropna().corr('pearson')"
   ]
  },
  {
   "cell_type": "code",
   "execution_count": 85,
   "metadata": {},
   "outputs": [
    {
     "data": {
      "text/html": [
       "<div>\n",
       "<style scoped>\n",
       "    .dataframe tbody tr th:only-of-type {\n",
       "        vertical-align: middle;\n",
       "    }\n",
       "\n",
       "    .dataframe tbody tr th {\n",
       "        vertical-align: top;\n",
       "    }\n",
       "\n",
       "    .dataframe thead th {\n",
       "        text-align: right;\n",
       "    }\n",
       "</style>\n",
       "<table border=\"1\" class=\"dataframe\">\n",
       "  <thead>\n",
       "    <tr style=\"text-align: right;\">\n",
       "      <th></th>\n",
       "      <th>n9</th>\n",
       "      <th>n14</th>\n",
       "    </tr>\n",
       "  </thead>\n",
       "  <tbody>\n",
       "    <tr>\n",
       "      <th>n9</th>\n",
       "      <td>1.0</td>\n",
       "      <td>1.0</td>\n",
       "    </tr>\n",
       "    <tr>\n",
       "      <th>n14</th>\n",
       "      <td>1.0</td>\n",
       "      <td>1.0</td>\n",
       "    </tr>\n",
       "  </tbody>\n",
       "</table>\n",
       "</div>"
      ],
      "text/plain": [
       "      n9  n14\n",
       "n9   1.0  1.0\n",
       "n14  1.0  1.0"
      ]
     },
     "execution_count": 85,
     "metadata": {},
     "output_type": "execute_result"
    }
   ],
   "source": [
    "df[['n9', 'n14']].dropna().corr('spearman')"
   ]
  },
  {
   "cell_type": "code",
   "execution_count": 86,
   "metadata": {},
   "outputs": [
    {
     "data": {
      "text/plain": [
       "<Axes: xlabel='n9', ylabel='n14'>"
      ]
     },
     "execution_count": 86,
     "metadata": {},
     "output_type": "execute_result"
    },
    {
     "data": {
      "image/png": "[encoded data removed]",
      "text/plain": [
       "<Figure size 400x300 with 1 Axes>"
      ]
     },
     "metadata": {},
     "output_type": "display_data"
    }
   ],
   "source": [
    "plt.figure(figsize=(4, 3))\n",
    "sns.scatterplot(x='n9', y='n14', data=df[['n9', 'n14']].dropna())\n"
   ]
  },
  {
   "cell_type": "markdown",
   "metadata": {},
   "source": [
    "- A corelação de  pearson de `n9` com a variável target `n14` é baixa\n",
    "- Na correlação de spearman temos uma correlação alta, mas pode ser por conta de outliers"
   ]
  },
  {
   "cell_type": "code",
   "execution_count": 87,
   "metadata": {},
   "outputs": [
    {
     "data": {
      "text/plain": [
       "<Axes: xlabel='variant', ylabel='n14'>"
      ]
     },
     "execution_count": 87,
     "metadata": {},
     "output_type": "execute_result"
    },
    {
     "data": {
      "image/png": "[encoded data removed]",
      "text/plain": [
       "<Figure size 400x300 with 1 Axes>"
      ]
     },
     "metadata": {},
     "output_type": "display_data"
    }
   ],
   "source": [
    "plt.figure(figsize=(4, 3))\n",
    "sns.boxplot(x='variant', y='n14', data=df)"
   ]
  },
  {
   "cell_type": "code",
   "execution_count": 88,
   "metadata": {},
   "outputs": [
    {
     "data": {
      "text/plain": [
       "<Axes: xlabel='variant', ylabel='n14'>"
      ]
     },
     "execution_count": 88,
     "metadata": {},
     "output_type": "execute_result"
    },
    {
     "data": {
      "image/png": "[encoded data removed]",
      "text/plain": [
       "<Figure size 400x300 with 1 Axes>"
      ]
     },
     "metadata": {},
     "output_type": "display_data"
    }
   ],
   "source": [
    "q_min = df['n14'].quantile(0.1)\n",
    "q_max = df['n14'].quantile(0.9)\n",
    "\n",
    "plt.figure(figsize=(4, 3))\n",
    "sns.boxplot(x='variant', y='n14', data=df[(df['n14'] > q_min) & (df['n14'] < q_max)])"
   ]
  },
  {
   "cell_type": "code",
   "execution_count": 89,
   "metadata": {},
   "outputs": [
    {
     "data": {
      "text/plain": [
       "<Axes: xlabel='n9', ylabel='n14'>"
      ]
     },
     "execution_count": 89,
     "metadata": {},
     "output_type": "execute_result"
    },
    {
     "data": {
      "image/png": "[encoded data removed]",
      "text/plain": [
       "<Figure size 400x300 with 1 Axes>"
      ]
     },
     "metadata": {},
     "output_type": "display_data"
    }
   ],
   "source": [
    "plt.figure(figsize=(4, 3))\n",
    "sns.scatterplot(x='n9', y='n14', data=df[(df['n14'] > q_min) & (df['n14'] < q_max)][['n9', 'n14']].dropna())\n"
   ]
  },
  {
   "cell_type": "markdown",
   "metadata": {},
   "source": [
    "- A correlação de spearman de `n9` com a variável target `n14` é perfeira (1), pode ser uma variável muito importante para o modelo ou algo que foi gerado artificialmente a partir da variável target\n",
    "- Vamos verificar as variaveis categoricas faltantes"
   ]
  },
  {
   "cell_type": "code",
   "execution_count": 90,
   "metadata": {},
   "outputs": [],
   "source": [
    "target = 'n14'\n",
    "categoricas = ['c1', 'c2', 'c3', 'c4', 'c5', 'c6']"
   ]
  },
  {
   "cell_type": "code",
   "execution_count": 91,
   "metadata": {},
   "outputs": [
    {
     "name": "stdout",
     "output_type": "stream",
     "text": [
      "c1: 174\n",
      "c2: 4\n",
      "c3: 29\n",
      "c4: 268\n",
      "c5: 2\n",
      "c6: 35\n"
     ]
    }
   ],
   "source": [
    "#Numermo de categorias\n",
    "for col in categoricas:\n",
    "    print(f\"{col}: {df[col].nunique()}\")"
   ]
  },
  {
   "cell_type": "markdown",
   "metadata": {},
   "source": [
    "- Primeiro iremos verificar as variáveis categóricas que possuem poucas categorias"
   ]
  },
  {
   "cell_type": "code",
   "execution_count": 97,
   "metadata": {},
   "outputs": [
    {
     "data": {
      "image/png": "[encoded data removed]",
      "text/plain": [
       "<Figure size 1000x1000 with 2 Axes>"
      ]
     },
     "metadata": {},
     "output_type": "display_data"
    }
   ],
   "source": [
    "fig = plt.figure(figsize=(10, 10))\n",
    "for i, col in enumerate(['c2', 'c5']):\n",
    "    fig.add_subplot(3, 2, i+1)\n",
    "    sns.violinplot(x=col, y=target, data=df[(df['n14'] > q_min) & (df['n14'] < q_max)].dropna())\n",
    "    fig.tight_layout()"
   ]
  },
  {
   "cell_type": "markdown",
   "metadata": {},
   "source": [
    "- Podemos perceber que a redulção da imagem de `n14` também representa uma do domínio das variáveis categóricas, ou seja, c5 por exemplo pode representar se o usuário realizou uma compra ou não (caso < `q_min`) ou uma empresa ou comprador em atacado (caso > `q_max`), e como ela não tem valores faltantes podemos considerar uma variável importante para o modelo"
   ]
  },
  {
   "cell_type": "markdown",
   "metadata": {},
   "source": [
    "# TODO\n",
    "- Verificar outros valores para c2"
   ]
  },
  {
   "cell_type": "code",
   "execution_count": 106,
   "metadata": {},
   "outputs": [
    {
     "name": "stdout",
     "output_type": "stream",
     "text": [
      "c5 Falso: 1993694647981.05\n",
      "c5 Verdadeiro: 9.28\n"
     ]
    }
   ],
   "source": [
    "print(f\"c5 Falso: {df[df['c5'] == False]['n14'].mean():.2f}\")\n",
    "print(f\"c5 Verdadeiro: {df[df['c5'] == True]['n14'].mean():.2f}\")"
   ]
  },
  {
   "cell_type": "markdown",
   "metadata": {},
   "source": [
    "- Vamos verificar agora as colunas categóricas com muitas categorias"
   ]
  },
  {
   "cell_type": "code",
   "execution_count": 134,
   "metadata": {},
   "outputs": [
    {
     "data": {
      "text/html": [
       "<div>\n",
       "<style scoped>\n",
       "    .dataframe tbody tr th:only-of-type {\n",
       "        vertical-align: middle;\n",
       "    }\n",
       "\n",
       "    .dataframe tbody tr th {\n",
       "        vertical-align: top;\n",
       "    }\n",
       "\n",
       "    .dataframe thead th {\n",
       "        text-align: right;\n",
       "    }\n",
       "</style>\n",
       "<table border=\"1\" class=\"dataframe\">\n",
       "  <thead>\n",
       "    <tr style=\"text-align: right;\">\n",
       "      <th></th>\n",
       "      <th>n14</th>\n",
       "    </tr>\n",
       "    <tr>\n",
       "      <th>c1</th>\n",
       "      <th></th>\n",
       "    </tr>\n",
       "  </thead>\n",
       "  <tbody>\n",
       "    <tr>\n",
       "      <th>UEc</th>\n",
       "      <td>2.179115e+13</td>\n",
       "    </tr>\n",
       "    <tr>\n",
       "      <th>Vkk</th>\n",
       "      <td>1.808045e+11</td>\n",
       "    </tr>\n",
       "    <tr>\n",
       "      <th>R0Q</th>\n",
       "      <td>1.131567e+10</td>\n",
       "    </tr>\n",
       "    <tr>\n",
       "      <th>Q0Q</th>\n",
       "      <td>3.667998e+09</td>\n",
       "    </tr>\n",
       "    <tr>\n",
       "      <th>VEw</th>\n",
       "      <td>1.516742e+08</td>\n",
       "    </tr>\n",
       "    <tr>\n",
       "      <th>...</th>\n",
       "      <td>...</td>\n",
       "    </tr>\n",
       "    <tr>\n",
       "      <th>VFI</th>\n",
       "      <td>4.237430e-02</td>\n",
       "    </tr>\n",
       "    <tr>\n",
       "      <th>QlI</th>\n",
       "      <td>3.407673e-02</td>\n",
       "    </tr>\n",
       "    <tr>\n",
       "      <th>NAN</th>\n",
       "      <td>2.258934e-02</td>\n",
       "    </tr>\n",
       "    <tr>\n",
       "      <th>VVM</th>\n",
       "      <td>9.978604e-03</td>\n",
       "    </tr>\n",
       "    <tr>\n",
       "      <th>SU4</th>\n",
       "      <td>2.025828e-03</td>\n",
       "    </tr>\n",
       "  </tbody>\n",
       "</table>\n",
       "<p>175 rows × 1 columns</p>\n",
       "</div>"
      ],
      "text/plain": [
       "              n14\n",
       "c1               \n",
       "UEc  2.179115e+13\n",
       "Vkk  1.808045e+11\n",
       "R0Q  1.131567e+10\n",
       "Q0Q  3.667998e+09\n",
       "VEw  1.516742e+08\n",
       "..            ...\n",
       "VFI  4.237430e-02\n",
       "QlI  3.407673e-02\n",
       "NAN  2.258934e-02\n",
       "VVM  9.978604e-03\n",
       "SU4  2.025828e-03\n",
       "\n",
       "[175 rows x 1 columns]"
      ]
     },
     "execution_count": 134,
     "metadata": {},
     "output_type": "execute_result"
    }
   ],
   "source": [
    "_df = df.copy()\n",
    "_df['c1'].fillna('NAN', inplace=True)\n",
    "_df.groupby('c1')[['n14']].mean().sort_values(by='n14', ascending=False)"
   ]
  },
  {
   "cell_type": "code",
   "execution_count": 136,
   "metadata": {},
   "outputs": [
    {
     "data": {
      "text/html": [
       "<div>\n",
       "<style scoped>\n",
       "    .dataframe tbody tr th:only-of-type {\n",
       "        vertical-align: middle;\n",
       "    }\n",
       "\n",
       "    .dataframe tbody tr th {\n",
       "        vertical-align: top;\n",
       "    }\n",
       "\n",
       "    .dataframe thead th {\n",
       "        text-align: right;\n",
       "    }\n",
       "</style>\n",
       "<table border=\"1\" class=\"dataframe\">\n",
       "  <thead>\n",
       "    <tr style=\"text-align: right;\">\n",
       "      <th></th>\n",
       "      <th>n14</th>\n",
       "    </tr>\n",
       "    <tr>\n",
       "      <th>c4</th>\n",
       "      <th></th>\n",
       "    </tr>\n",
       "  </thead>\n",
       "  <tbody>\n",
       "    <tr>\n",
       "      <th>YWxpZ</th>\n",
       "      <td>2.179115e+13</td>\n",
       "    </tr>\n",
       "    <tr>\n",
       "      <th>bnV1</th>\n",
       "      <td>1.808045e+11</td>\n",
       "    </tr>\n",
       "    <tr>\n",
       "      <th>YXhpb</th>\n",
       "      <td>1.131567e+10</td>\n",
       "    </tr>\n",
       "    <tr>\n",
       "      <th>YmF1a</th>\n",
       "      <td>3.667998e+09</td>\n",
       "    </tr>\n",
       "    <tr>\n",
       "      <th>ZG9yb</th>\n",
       "      <td>1.516742e+08</td>\n",
       "    </tr>\n",
       "    <tr>\n",
       "      <th>...</th>\n",
       "      <td>...</td>\n",
       "    </tr>\n",
       "    <tr>\n",
       "      <th>eGlhb</th>\n",
       "      <td>2.410788e-01</td>\n",
       "    </tr>\n",
       "    <tr>\n",
       "      <th>aHVhd</th>\n",
       "      <td>1.808581e-01</td>\n",
       "    </tr>\n",
       "    <tr>\n",
       "      <th>NAN</th>\n",
       "      <td>1.047684e-01</td>\n",
       "    </tr>\n",
       "    <tr>\n",
       "      <th>YXBwb</th>\n",
       "      <td>3.618582e-02</td>\n",
       "    </tr>\n",
       "    <tr>\n",
       "      <th>c2Ftc</th>\n",
       "      <td>5.363453e-03</td>\n",
       "    </tr>\n",
       "  </tbody>\n",
       "</table>\n",
       "<p>269 rows × 1 columns</p>\n",
       "</div>"
      ],
      "text/plain": [
       "                n14\n",
       "c4                 \n",
       "YWxpZ  2.179115e+13\n",
       "bnV1   1.808045e+11\n",
       "YXhpb  1.131567e+10\n",
       "YmF1a  3.667998e+09\n",
       "ZG9yb  1.516742e+08\n",
       "...             ...\n",
       "eGlhb  2.410788e-01\n",
       "aHVhd  1.808581e-01\n",
       "NAN    1.047684e-01\n",
       "YXBwb  3.618582e-02\n",
       "c2Ftc  5.363453e-03\n",
       "\n",
       "[269 rows x 1 columns]"
      ]
     },
     "execution_count": 136,
     "metadata": {},
     "output_type": "execute_result"
    }
   ],
   "source": [
    "_df = df.copy()\n",
    "_df['c4'].fillna('NAN', inplace=True)\n",
    "_df.groupby('c4')[['n14']].mean().sort_values(by='n14', ascending=False)"
   ]
  },
  {
   "cell_type": "code",
   "execution_count": 137,
   "metadata": {},
   "outputs": [],
   "source": [
    "del _df"
   ]
  },
  {
   "cell_type": "markdown",
   "metadata": {},
   "source": [
    "- Podemos ver que em ambos os casos a média das variáveis NAN é bem a baixo do resto de outros valores, portanto não acredito ser uma boa ideia substituir pela média total\n",
    "- Agora iremos verificar `c6` que não havia entrado na análise anterior"
   ]
  },
  {
   "cell_type": "code",
   "execution_count": 142,
   "metadata": {},
   "outputs": [
    {
     "data": {
      "text/html": [
       "<div>\n",
       "<style scoped>\n",
       "    .dataframe tbody tr th:only-of-type {\n",
       "        vertical-align: middle;\n",
       "    }\n",
       "\n",
       "    .dataframe tbody tr th {\n",
       "        vertical-align: top;\n",
       "    }\n",
       "\n",
       "    .dataframe thead th {\n",
       "        text-align: right;\n",
       "    }\n",
       "</style>\n",
       "<table border=\"1\" class=\"dataframe\">\n",
       "  <thead>\n",
       "    <tr style=\"text-align: right;\">\n",
       "      <th></th>\n",
       "      <th>n14</th>\n",
       "    </tr>\n",
       "    <tr>\n",
       "      <th>c6</th>\n",
       "      <th></th>\n",
       "    </tr>\n",
       "  </thead>\n",
       "  <tbody>\n",
       "    <tr>\n",
       "      <th>LTA0OjAw</th>\n",
       "      <td>0.065845</td>\n",
       "    </tr>\n",
       "    <tr>\n",
       "      <th>NAN</th>\n",
       "      <td>0.039564</td>\n",
       "    </tr>\n",
       "    <tr>\n",
       "      <th>ZWdhbF9zdHJp</th>\n",
       "      <td>0.021358</td>\n",
       "    </tr>\n",
       "    <tr>\n",
       "      <th>KzA1OjMw</th>\n",
       "      <td>0.009290</td>\n",
       "    </tr>\n",
       "    <tr>\n",
       "      <th>KzAyOjAw</th>\n",
       "      <td>0.001950</td>\n",
       "    </tr>\n",
       "  </tbody>\n",
       "</table>\n",
       "</div>"
      ],
      "text/plain": [
       "                   n14\n",
       "c6                    \n",
       "LTA0OjAw      0.065845\n",
       "NAN           0.039564\n",
       "ZWdhbF9zdHJp  0.021358\n",
       "KzA1OjMw      0.009290\n",
       "KzAyOjAw      0.001950"
      ]
     },
     "execution_count": 142,
     "metadata": {},
     "output_type": "execute_result"
    }
   ],
   "source": [
    "_df = df.copy()\n",
    "_df['c6'].fillna('NAN', inplace=True)\n",
    "_df.groupby('c6')[['n14']].mean().sort_values(by='n14', ascending=False).tail(5)"
   ]
  },
  {
   "cell_type": "markdown",
   "metadata": {},
   "source": [
    "- Podemos ver novamente que os valores faltantes de `c6` possuem uma média bem abaixo do resto, portanto podemos pensar em algum método como um modelo próprio de classificação para preencher os valores faltantes"
   ]
  },
  {
   "cell_type": "code",
   "execution_count": null,
   "metadata": {},
   "outputs": [],
   "source": []
  },
  {
   "cell_type": "code",
   "execution_count": null,
   "metadata": {},
   "outputs": [],
   "source": []
  }
 ],
 "metadata": {
  "kernelspec": {
   "display_name": "Python 3",
   "language": "python",
   "name": "python3"
  },
  "language_info": {
   "codemirror_mode": {
    "name": "ipython",
    "version": 3
   },
   "file_extension": ".py",
   "mimetype": "text/x-python",
   "name": "python",
   "nbconvert_exporter": "python",
   "pygments_lexer": "ipython3",
   "version": "3.8.10"
  }
 },
 "nbformat": 4,
 "nbformat_minor": 2
}
